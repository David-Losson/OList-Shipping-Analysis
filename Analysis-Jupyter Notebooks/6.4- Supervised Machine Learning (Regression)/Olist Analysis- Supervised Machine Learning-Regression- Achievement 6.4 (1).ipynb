{
 "cells": [
  {
   "cell_type": "markdown",
   "id": "76e5e510",
   "metadata": {},
   "source": [
    "#### 1.) Import the Libraries"
   ]
  },
  {
   "cell_type": "code",
   "execution_count": 1,
   "id": "56141c3b",
   "metadata": {},
   "outputs": [],
   "source": [
    "import pandas as pd\n",
    "import numpy as np\n",
    "import seaborn as sns\n",
    "import matplotlib\n",
    "import matplotlib.pyplot as plt\n",
    "import os\n",
    "import sklearn\n",
    "from sklearn.model_selection import train_test_split \n",
    "from sklearn.linear_model import LinearRegression\n",
    "from sklearn.metrics import mean_squared_error, r2_score"
   ]
  },
  {
   "cell_type": "code",
   "execution_count": 27,
   "id": "72177d5f",
   "metadata": {},
   "outputs": [],
   "source": [
    "%matplotlib inline"
   ]
  },
  {
   "cell_type": "code",
   "execution_count": 31,
   "id": "cb57a54e",
   "metadata": {},
   "outputs": [],
   "source": [
    "path = r'C:\\Users\\dmlos\\Achievement VI- Olist Business Analysis'"
   ]
  },
  {
   "cell_type": "code",
   "execution_count": 32,
   "id": "af4a2605",
   "metadata": {},
   "outputs": [],
   "source": [
    "df = pd.read_csv(os.path.join(path, 'Olist-Original Data (Kaggle)', 'df_geolocation_customers_sellers_items_orders_clean_29.csv'))"
   ]
  },
  {
   "cell_type": "code",
   "execution_count": 33,
   "id": "70576d45",
   "metadata": {},
   "outputs": [
    {
     "data": {
      "text/html": [
       "<div>\n",
       "<style scoped>\n",
       "    .dataframe tbody tr th:only-of-type {\n",
       "        vertical-align: middle;\n",
       "    }\n",
       "\n",
       "    .dataframe tbody tr th {\n",
       "        vertical-align: top;\n",
       "    }\n",
       "\n",
       "    .dataframe thead th {\n",
       "        text-align: right;\n",
       "    }\n",
       "</style>\n",
       "<table border=\"1\" class=\"dataframe\">\n",
       "  <thead>\n",
       "    <tr style=\"text-align: right;\">\n",
       "      <th></th>\n",
       "      <th>Unnamed: 0</th>\n",
       "      <th>Seller_Zip</th>\n",
       "      <th>Seller_Lat</th>\n",
       "      <th>Seller_Long</th>\n",
       "      <th>Customer_Zip</th>\n",
       "      <th>Customer_Lat</th>\n",
       "      <th>Customer_Long</th>\n",
       "      <th>Customer_ID</th>\n",
       "      <th>Customer_Unique_ID</th>\n",
       "      <th>Customer_City</th>\n",
       "      <th>...</th>\n",
       "      <th>Freight_Value</th>\n",
       "      <th>Payment_Type</th>\n",
       "      <th>review_id</th>\n",
       "      <th>Review_Score</th>\n",
       "      <th>Order_Status</th>\n",
       "      <th>Delivery-Purchase_Time_Difference_Min</th>\n",
       "      <th>Estimated-Purchase_Time_Difference_Min</th>\n",
       "      <th>Approval-Purchase_Time_Difference_Min</th>\n",
       "      <th>Carrier_Delivered-Order_Time_Difference_Min</th>\n",
       "      <th>Fulfillment Time</th>\n",
       "    </tr>\n",
       "  </thead>\n",
       "  <tbody>\n",
       "    <tr>\n",
       "      <th>0</th>\n",
       "      <td>0</td>\n",
       "      <td>1041</td>\n",
       "      <td>-23.544392</td>\n",
       "      <td>-46.639499</td>\n",
       "      <td>7082</td>\n",
       "      <td>-23.434352</td>\n",
       "      <td>-46.542897</td>\n",
       "      <td>f3a2d5b49cc090c679649818bc3f8e8e</td>\n",
       "      <td>43926f36ab519f97f4c9ce01c6183c9c</td>\n",
       "      <td>guarulhos</td>\n",
       "      <td>...</td>\n",
       "      <td>9.57</td>\n",
       "      <td>credit_card</td>\n",
       "      <td>fa0564acf6469e703a848bccd7be6de9</td>\n",
       "      <td>5</td>\n",
       "      <td>delivered</td>\n",
       "      <td>2707.266667</td>\n",
       "      <td>33208.433333</td>\n",
       "      <td>27.683333</td>\n",
       "      <td>723.433333</td>\n",
       "      <td>Fast</td>\n",
       "    </tr>\n",
       "    <tr>\n",
       "      <th>1</th>\n",
       "      <td>1</td>\n",
       "      <td>1041</td>\n",
       "      <td>-23.544392</td>\n",
       "      <td>-46.639499</td>\n",
       "      <td>4718</td>\n",
       "      <td>-15.820763</td>\n",
       "      <td>-47.901087</td>\n",
       "      <td>b84999d47cecf126835a23650ee4ecb8</td>\n",
       "      <td>04efac4a29eec2c5662b65e87291ec38</td>\n",
       "      <td>brasilia</td>\n",
       "      <td>...</td>\n",
       "      <td>19.15</td>\n",
       "      <td>credit_card</td>\n",
       "      <td>3322460564fc8f370b077b7e49d733ad</td>\n",
       "      <td>4</td>\n",
       "      <td>delivered</td>\n",
       "      <td>14353.433333</td>\n",
       "      <td>23275.033333</td>\n",
       "      <td>1128.650000</td>\n",
       "      <td>2314.033333</td>\n",
       "      <td>Average</td>\n",
       "    </tr>\n",
       "    <tr>\n",
       "      <th>2</th>\n",
       "      <td>2</td>\n",
       "      <td>1035</td>\n",
       "      <td>-23.541578</td>\n",
       "      <td>-46.641607</td>\n",
       "      <td>1525</td>\n",
       "      <td>-23.567009</td>\n",
       "      <td>-46.637529</td>\n",
       "      <td>3fc1728dbe8a2b9375d4b530b8932550</td>\n",
       "      <td>8910eb29996c4c8905499106240ad3f9</td>\n",
       "      <td>sao paulo</td>\n",
       "      <td>...</td>\n",
       "      <td>7.39</td>\n",
       "      <td>credit_card</td>\n",
       "      <td>1756f3a6e91c1cb546124d076b62fb14</td>\n",
       "      <td>5</td>\n",
       "      <td>delivered</td>\n",
       "      <td>2979.450000</td>\n",
       "      <td>20720.633333</td>\n",
       "      <td>18.083333</td>\n",
       "      <td>1129.633333</td>\n",
       "      <td>Fast</td>\n",
       "    </tr>\n",
       "    <tr>\n",
       "      <th>3</th>\n",
       "      <td>3</td>\n",
       "      <td>1035</td>\n",
       "      <td>-23.541578</td>\n",
       "      <td>-46.641607</td>\n",
       "      <td>1525</td>\n",
       "      <td>-23.567009</td>\n",
       "      <td>-46.637529</td>\n",
       "      <td>3fc1728dbe8a2b9375d4b530b8932550</td>\n",
       "      <td>8910eb29996c4c8905499106240ad3f9</td>\n",
       "      <td>sao paulo</td>\n",
       "      <td>...</td>\n",
       "      <td>7.39</td>\n",
       "      <td>credit_card</td>\n",
       "      <td>1756f3a6e91c1cb546124d076b62fb14</td>\n",
       "      <td>5</td>\n",
       "      <td>delivered</td>\n",
       "      <td>2979.450000</td>\n",
       "      <td>20720.633333</td>\n",
       "      <td>18.083333</td>\n",
       "      <td>1129.633333</td>\n",
       "      <td>Fast</td>\n",
       "    </tr>\n",
       "    <tr>\n",
       "      <th>4</th>\n",
       "      <td>4</td>\n",
       "      <td>1035</td>\n",
       "      <td>-23.541578</td>\n",
       "      <td>-46.641607</td>\n",
       "      <td>1525</td>\n",
       "      <td>-23.567009</td>\n",
       "      <td>-46.637529</td>\n",
       "      <td>3fc1728dbe8a2b9375d4b530b8932550</td>\n",
       "      <td>8910eb29996c4c8905499106240ad3f9</td>\n",
       "      <td>sao paulo</td>\n",
       "      <td>...</td>\n",
       "      <td>7.39</td>\n",
       "      <td>credit_card</td>\n",
       "      <td>1756f3a6e91c1cb546124d076b62fb14</td>\n",
       "      <td>5</td>\n",
       "      <td>delivered</td>\n",
       "      <td>2979.450000</td>\n",
       "      <td>20720.633333</td>\n",
       "      <td>18.083333</td>\n",
       "      <td>1129.633333</td>\n",
       "      <td>Fast</td>\n",
       "    </tr>\n",
       "    <tr>\n",
       "      <th>...</th>\n",
       "      <td>...</td>\n",
       "      <td>...</td>\n",
       "      <td>...</td>\n",
       "      <td>...</td>\n",
       "      <td>...</td>\n",
       "      <td>...</td>\n",
       "      <td>...</td>\n",
       "      <td>...</td>\n",
       "      <td>...</td>\n",
       "      <td>...</td>\n",
       "      <td>...</td>\n",
       "      <td>...</td>\n",
       "      <td>...</td>\n",
       "      <td>...</td>\n",
       "      <td>...</td>\n",
       "      <td>...</td>\n",
       "      <td>...</td>\n",
       "      <td>...</td>\n",
       "      <td>...</td>\n",
       "      <td>...</td>\n",
       "      <td>...</td>\n",
       "    </tr>\n",
       "    <tr>\n",
       "      <th>116745</th>\n",
       "      <td>116745</td>\n",
       "      <td>99730</td>\n",
       "      <td>-27.729373</td>\n",
       "      <td>-52.537491</td>\n",
       "      <td>28740</td>\n",
       "      <td>-22.082361</td>\n",
       "      <td>-41.865673</td>\n",
       "      <td>050309b91cc5e04e68841938e7984aaf</td>\n",
       "      <td>a1c2e4b4c1b29e41684ebdf3cc6538f8</td>\n",
       "      <td>conceicao de macabu</td>\n",
       "      <td>...</td>\n",
       "      <td>51.20</td>\n",
       "      <td>credit_card</td>\n",
       "      <td>d8b7a27e0ca2736c310d24a87bcba62a</td>\n",
       "      <td>5</td>\n",
       "      <td>delivered</td>\n",
       "      <td>14380.666667</td>\n",
       "      <td>34795.916667</td>\n",
       "      <td>19.833333</td>\n",
       "      <td>5158.916667</td>\n",
       "      <td>Average</td>\n",
       "    </tr>\n",
       "    <tr>\n",
       "      <th>116746</th>\n",
       "      <td>116746</td>\n",
       "      <td>99730</td>\n",
       "      <td>-27.729373</td>\n",
       "      <td>-52.537491</td>\n",
       "      <td>30315</td>\n",
       "      <td>-19.954557</td>\n",
       "      <td>-43.934100</td>\n",
       "      <td>58f2a48696b2cf8da50fcb21f8512c14</td>\n",
       "      <td>706c6cfe5101366f274a332a11671fa2</td>\n",
       "      <td>belo horizonte</td>\n",
       "      <td>...</td>\n",
       "      <td>33.48</td>\n",
       "      <td>boleto</td>\n",
       "      <td>28c48ed624ccf5855344639da4ffb854</td>\n",
       "      <td>2</td>\n",
       "      <td>delivered</td>\n",
       "      <td>10503.366667</td>\n",
       "      <td>41176.750000</td>\n",
       "      <td>7711.216667</td>\n",
       "      <td>6349.683333</td>\n",
       "      <td>Average</td>\n",
       "    </tr>\n",
       "    <tr>\n",
       "      <th>116747</th>\n",
       "      <td>116747</td>\n",
       "      <td>99730</td>\n",
       "      <td>-27.729373</td>\n",
       "      <td>-52.537491</td>\n",
       "      <td>12532</td>\n",
       "      <td>-15.616299</td>\n",
       "      <td>-56.047403</td>\n",
       "      <td>35e44b2134df14f2551b361aecdc47ce</td>\n",
       "      <td>f442c71d123cbc47ef86cc8fdd240ec8</td>\n",
       "      <td>cuiaba</td>\n",
       "      <td>...</td>\n",
       "      <td>51.47</td>\n",
       "      <td>credit_card</td>\n",
       "      <td>09c1b39e3df37b6d2cce3cf3f6cc83a0</td>\n",
       "      <td>5</td>\n",
       "      <td>delivered</td>\n",
       "      <td>21248.666667</td>\n",
       "      <td>39026.666667</td>\n",
       "      <td>21.066667</td>\n",
       "      <td>2316.666667</td>\n",
       "      <td>Average</td>\n",
       "    </tr>\n",
       "    <tr>\n",
       "      <th>116748</th>\n",
       "      <td>116748</td>\n",
       "      <td>99730</td>\n",
       "      <td>-27.729373</td>\n",
       "      <td>-52.537491</td>\n",
       "      <td>17304</td>\n",
       "      <td>-25.404673</td>\n",
       "      <td>-49.199713</td>\n",
       "      <td>3caac0647292a8ce09b6ab64320754d1</td>\n",
       "      <td>23b9a655ff10edb2d784aea93e460ae2</td>\n",
       "      <td>curitiba</td>\n",
       "      <td>...</td>\n",
       "      <td>18.33</td>\n",
       "      <td>boleto</td>\n",
       "      <td>e6e1ba6effd888b75ed2cf54555951d3</td>\n",
       "      <td>5</td>\n",
       "      <td>delivered</td>\n",
       "      <td>13127.716667</td>\n",
       "      <td>36808.866667</td>\n",
       "      <td>4846.733333</td>\n",
       "      <td>4703.716667</td>\n",
       "      <td>Average</td>\n",
       "    </tr>\n",
       "    <tr>\n",
       "      <th>116749</th>\n",
       "      <td>116749</td>\n",
       "      <td>99730</td>\n",
       "      <td>-27.729373</td>\n",
       "      <td>-52.537491</td>\n",
       "      <td>-31572</td>\n",
       "      <td>-28.289446</td>\n",
       "      <td>-52.794123</td>\n",
       "      <td>08ab4c257d3664e4e28edf27010616de</td>\n",
       "      <td>84b79aa26b530ae73a12cd8ab4de6ea4</td>\n",
       "      <td>carazinho</td>\n",
       "      <td>...</td>\n",
       "      <td>19.41</td>\n",
       "      <td>credit_card</td>\n",
       "      <td>fb4c5633c983538ce841c0539cbee1fa</td>\n",
       "      <td>5</td>\n",
       "      <td>delivered</td>\n",
       "      <td>7718.066667</td>\n",
       "      <td>22181.400000</td>\n",
       "      <td>11.733333</td>\n",
       "      <td>1594.650000</td>\n",
       "      <td>Fast</td>\n",
       "    </tr>\n",
       "  </tbody>\n",
       "</table>\n",
       "<p>116750 rows × 29 columns</p>\n",
       "</div>"
      ],
      "text/plain": [
       "        Unnamed: 0  Seller_Zip  Seller_Lat  Seller_Long  Customer_Zip  \\\n",
       "0                0        1041  -23.544392   -46.639499          7082   \n",
       "1                1        1041  -23.544392   -46.639499          4718   \n",
       "2                2        1035  -23.541578   -46.641607          1525   \n",
       "3                3        1035  -23.541578   -46.641607          1525   \n",
       "4                4        1035  -23.541578   -46.641607          1525   \n",
       "...            ...         ...         ...          ...           ...   \n",
       "116745      116745       99730  -27.729373   -52.537491         28740   \n",
       "116746      116746       99730  -27.729373   -52.537491         30315   \n",
       "116747      116747       99730  -27.729373   -52.537491         12532   \n",
       "116748      116748       99730  -27.729373   -52.537491         17304   \n",
       "116749      116749       99730  -27.729373   -52.537491        -31572   \n",
       "\n",
       "        Customer_Lat  Customer_Long                       Customer_ID  \\\n",
       "0         -23.434352     -46.542897  f3a2d5b49cc090c679649818bc3f8e8e   \n",
       "1         -15.820763     -47.901087  b84999d47cecf126835a23650ee4ecb8   \n",
       "2         -23.567009     -46.637529  3fc1728dbe8a2b9375d4b530b8932550   \n",
       "3         -23.567009     -46.637529  3fc1728dbe8a2b9375d4b530b8932550   \n",
       "4         -23.567009     -46.637529  3fc1728dbe8a2b9375d4b530b8932550   \n",
       "...              ...            ...                               ...   \n",
       "116745    -22.082361     -41.865673  050309b91cc5e04e68841938e7984aaf   \n",
       "116746    -19.954557     -43.934100  58f2a48696b2cf8da50fcb21f8512c14   \n",
       "116747    -15.616299     -56.047403  35e44b2134df14f2551b361aecdc47ce   \n",
       "116748    -25.404673     -49.199713  3caac0647292a8ce09b6ab64320754d1   \n",
       "116749    -28.289446     -52.794123  08ab4c257d3664e4e28edf27010616de   \n",
       "\n",
       "                      Customer_Unique_ID        Customer_City  ...  \\\n",
       "0       43926f36ab519f97f4c9ce01c6183c9c            guarulhos  ...   \n",
       "1       04efac4a29eec2c5662b65e87291ec38             brasilia  ...   \n",
       "2       8910eb29996c4c8905499106240ad3f9            sao paulo  ...   \n",
       "3       8910eb29996c4c8905499106240ad3f9            sao paulo  ...   \n",
       "4       8910eb29996c4c8905499106240ad3f9            sao paulo  ...   \n",
       "...                                  ...                  ...  ...   \n",
       "116745  a1c2e4b4c1b29e41684ebdf3cc6538f8  conceicao de macabu  ...   \n",
       "116746  706c6cfe5101366f274a332a11671fa2       belo horizonte  ...   \n",
       "116747  f442c71d123cbc47ef86cc8fdd240ec8               cuiaba  ...   \n",
       "116748  23b9a655ff10edb2d784aea93e460ae2             curitiba  ...   \n",
       "116749  84b79aa26b530ae73a12cd8ab4de6ea4            carazinho  ...   \n",
       "\n",
       "       Freight_Value Payment_Type                         review_id  \\\n",
       "0               9.57  credit_card  fa0564acf6469e703a848bccd7be6de9   \n",
       "1              19.15  credit_card  3322460564fc8f370b077b7e49d733ad   \n",
       "2               7.39  credit_card  1756f3a6e91c1cb546124d076b62fb14   \n",
       "3               7.39  credit_card  1756f3a6e91c1cb546124d076b62fb14   \n",
       "4               7.39  credit_card  1756f3a6e91c1cb546124d076b62fb14   \n",
       "...              ...          ...                               ...   \n",
       "116745         51.20  credit_card  d8b7a27e0ca2736c310d24a87bcba62a   \n",
       "116746         33.48       boleto  28c48ed624ccf5855344639da4ffb854   \n",
       "116747         51.47  credit_card  09c1b39e3df37b6d2cce3cf3f6cc83a0   \n",
       "116748         18.33       boleto  e6e1ba6effd888b75ed2cf54555951d3   \n",
       "116749         19.41  credit_card  fb4c5633c983538ce841c0539cbee1fa   \n",
       "\n",
       "       Review_Score Order_Status Delivery-Purchase_Time_Difference_Min  \\\n",
       "0                 5    delivered                           2707.266667   \n",
       "1                 4    delivered                          14353.433333   \n",
       "2                 5    delivered                           2979.450000   \n",
       "3                 5    delivered                           2979.450000   \n",
       "4                 5    delivered                           2979.450000   \n",
       "...             ...          ...                                   ...   \n",
       "116745            5    delivered                          14380.666667   \n",
       "116746            2    delivered                          10503.366667   \n",
       "116747            5    delivered                          21248.666667   \n",
       "116748            5    delivered                          13127.716667   \n",
       "116749            5    delivered                           7718.066667   \n",
       "\n",
       "        Estimated-Purchase_Time_Difference_Min  \\\n",
       "0                                 33208.433333   \n",
       "1                                 23275.033333   \n",
       "2                                 20720.633333   \n",
       "3                                 20720.633333   \n",
       "4                                 20720.633333   \n",
       "...                                        ...   \n",
       "116745                            34795.916667   \n",
       "116746                            41176.750000   \n",
       "116747                            39026.666667   \n",
       "116748                            36808.866667   \n",
       "116749                            22181.400000   \n",
       "\n",
       "       Approval-Purchase_Time_Difference_Min  \\\n",
       "0                                  27.683333   \n",
       "1                                1128.650000   \n",
       "2                                  18.083333   \n",
       "3                                  18.083333   \n",
       "4                                  18.083333   \n",
       "...                                      ...   \n",
       "116745                             19.833333   \n",
       "116746                           7711.216667   \n",
       "116747                             21.066667   \n",
       "116748                           4846.733333   \n",
       "116749                             11.733333   \n",
       "\n",
       "        Carrier_Delivered-Order_Time_Difference_Min  Fulfillment Time  \n",
       "0                                        723.433333              Fast  \n",
       "1                                       2314.033333           Average  \n",
       "2                                       1129.633333              Fast  \n",
       "3                                       1129.633333              Fast  \n",
       "4                                       1129.633333              Fast  \n",
       "...                                             ...               ...  \n",
       "116745                                  5158.916667           Average  \n",
       "116746                                  6349.683333           Average  \n",
       "116747                                  2316.666667           Average  \n",
       "116748                                  4703.716667           Average  \n",
       "116749                                  1594.650000              Fast  \n",
       "\n",
       "[116750 rows x 29 columns]"
      ]
     },
     "execution_count": 33,
     "metadata": {},
     "output_type": "execute_result"
    }
   ],
   "source": [
    "df"
   ]
  },
  {
   "cell_type": "markdown",
   "id": "ed50499c",
   "metadata": {},
   "source": [
    "## 2.) Clean the Data"
   ]
  },
  {
   "cell_type": "code",
   "execution_count": 34,
   "id": "76c88dea",
   "metadata": {},
   "outputs": [
    {
     "data": {
      "text/plain": [
       "Index(['Unnamed: 0', 'Seller_Zip', 'Seller_Lat', 'Seller_Long', 'Customer_Zip',\n",
       "       'Customer_Lat', 'Customer_Long', 'Customer_ID', 'Customer_Unique_ID',\n",
       "       'Customer_City', 'Customer_State', 'Seller_ID', 'Seller_City',\n",
       "       'Seller_State', 'Product_ID', 'Product_Category', 'Product_Weight(g)',\n",
       "       'order_id', 'Price', 'Freight_Value', 'Payment_Type', 'review_id',\n",
       "       'Review_Score', 'Order_Status', 'Delivery-Purchase_Time_Difference_Min',\n",
       "       'Estimated-Purchase_Time_Difference_Min',\n",
       "       'Approval-Purchase_Time_Difference_Min',\n",
       "       'Carrier_Delivered-Order_Time_Difference_Min', 'Fulfillment Time'],\n",
       "      dtype='object')"
      ]
     },
     "execution_count": 34,
     "metadata": {},
     "output_type": "execute_result"
    }
   ],
   "source": [
    "df.columns"
   ]
  },
  {
   "cell_type": "code",
   "execution_count": 35,
   "id": "47617bf8",
   "metadata": {},
   "outputs": [
    {
     "data": {
      "text/html": [
       "<div>\n",
       "<style scoped>\n",
       "    .dataframe tbody tr th:only-of-type {\n",
       "        vertical-align: middle;\n",
       "    }\n",
       "\n",
       "    .dataframe tbody tr th {\n",
       "        vertical-align: top;\n",
       "    }\n",
       "\n",
       "    .dataframe thead th {\n",
       "        text-align: right;\n",
       "    }\n",
       "</style>\n",
       "<table border=\"1\" class=\"dataframe\">\n",
       "  <thead>\n",
       "    <tr style=\"text-align: right;\">\n",
       "      <th></th>\n",
       "      <th>Unnamed: 0</th>\n",
       "      <th>Seller_Zip</th>\n",
       "      <th>Seller_Lat</th>\n",
       "      <th>Seller_Long</th>\n",
       "      <th>Customer_Zip</th>\n",
       "      <th>Customer_Lat</th>\n",
       "      <th>Customer_Long</th>\n",
       "      <th>Customer_ID</th>\n",
       "      <th>Customer_Unique_ID</th>\n",
       "      <th>Customer_City</th>\n",
       "      <th>...</th>\n",
       "      <th>Freight_Value</th>\n",
       "      <th>Payment_Type</th>\n",
       "      <th>review_id</th>\n",
       "      <th>Review_Score</th>\n",
       "      <th>Order_Status</th>\n",
       "      <th>Delivery-Purchase_Time_Difference_Min</th>\n",
       "      <th>Estimated-Purchase_Time_Difference_Min</th>\n",
       "      <th>Approval-Purchase_Time_Difference_Min</th>\n",
       "      <th>Carrier_Delivered-Order_Time_Difference_Min</th>\n",
       "      <th>Fulfillment Time</th>\n",
       "    </tr>\n",
       "  </thead>\n",
       "  <tbody>\n",
       "    <tr>\n",
       "      <th>0</th>\n",
       "      <td>0</td>\n",
       "      <td>1041</td>\n",
       "      <td>-23.544392</td>\n",
       "      <td>-46.639499</td>\n",
       "      <td>7082</td>\n",
       "      <td>-23.434352</td>\n",
       "      <td>-46.542897</td>\n",
       "      <td>f3a2d5b49cc090c679649818bc3f8e8e</td>\n",
       "      <td>43926f36ab519f97f4c9ce01c6183c9c</td>\n",
       "      <td>guarulhos</td>\n",
       "      <td>...</td>\n",
       "      <td>9.57</td>\n",
       "      <td>credit_card</td>\n",
       "      <td>fa0564acf6469e703a848bccd7be6de9</td>\n",
       "      <td>5</td>\n",
       "      <td>delivered</td>\n",
       "      <td>2707.266667</td>\n",
       "      <td>33208.433333</td>\n",
       "      <td>27.683333</td>\n",
       "      <td>723.433333</td>\n",
       "      <td>Fast</td>\n",
       "    </tr>\n",
       "    <tr>\n",
       "      <th>1</th>\n",
       "      <td>1</td>\n",
       "      <td>1041</td>\n",
       "      <td>-23.544392</td>\n",
       "      <td>-46.639499</td>\n",
       "      <td>4718</td>\n",
       "      <td>-15.820763</td>\n",
       "      <td>-47.901087</td>\n",
       "      <td>b84999d47cecf126835a23650ee4ecb8</td>\n",
       "      <td>04efac4a29eec2c5662b65e87291ec38</td>\n",
       "      <td>brasilia</td>\n",
       "      <td>...</td>\n",
       "      <td>19.15</td>\n",
       "      <td>credit_card</td>\n",
       "      <td>3322460564fc8f370b077b7e49d733ad</td>\n",
       "      <td>4</td>\n",
       "      <td>delivered</td>\n",
       "      <td>14353.433333</td>\n",
       "      <td>23275.033333</td>\n",
       "      <td>1128.650000</td>\n",
       "      <td>2314.033333</td>\n",
       "      <td>Average</td>\n",
       "    </tr>\n",
       "    <tr>\n",
       "      <th>2</th>\n",
       "      <td>2</td>\n",
       "      <td>1035</td>\n",
       "      <td>-23.541578</td>\n",
       "      <td>-46.641607</td>\n",
       "      <td>1525</td>\n",
       "      <td>-23.567009</td>\n",
       "      <td>-46.637529</td>\n",
       "      <td>3fc1728dbe8a2b9375d4b530b8932550</td>\n",
       "      <td>8910eb29996c4c8905499106240ad3f9</td>\n",
       "      <td>sao paulo</td>\n",
       "      <td>...</td>\n",
       "      <td>7.39</td>\n",
       "      <td>credit_card</td>\n",
       "      <td>1756f3a6e91c1cb546124d076b62fb14</td>\n",
       "      <td>5</td>\n",
       "      <td>delivered</td>\n",
       "      <td>2979.450000</td>\n",
       "      <td>20720.633333</td>\n",
       "      <td>18.083333</td>\n",
       "      <td>1129.633333</td>\n",
       "      <td>Fast</td>\n",
       "    </tr>\n",
       "    <tr>\n",
       "      <th>3</th>\n",
       "      <td>3</td>\n",
       "      <td>1035</td>\n",
       "      <td>-23.541578</td>\n",
       "      <td>-46.641607</td>\n",
       "      <td>1525</td>\n",
       "      <td>-23.567009</td>\n",
       "      <td>-46.637529</td>\n",
       "      <td>3fc1728dbe8a2b9375d4b530b8932550</td>\n",
       "      <td>8910eb29996c4c8905499106240ad3f9</td>\n",
       "      <td>sao paulo</td>\n",
       "      <td>...</td>\n",
       "      <td>7.39</td>\n",
       "      <td>credit_card</td>\n",
       "      <td>1756f3a6e91c1cb546124d076b62fb14</td>\n",
       "      <td>5</td>\n",
       "      <td>delivered</td>\n",
       "      <td>2979.450000</td>\n",
       "      <td>20720.633333</td>\n",
       "      <td>18.083333</td>\n",
       "      <td>1129.633333</td>\n",
       "      <td>Fast</td>\n",
       "    </tr>\n",
       "    <tr>\n",
       "      <th>4</th>\n",
       "      <td>4</td>\n",
       "      <td>1035</td>\n",
       "      <td>-23.541578</td>\n",
       "      <td>-46.641607</td>\n",
       "      <td>1525</td>\n",
       "      <td>-23.567009</td>\n",
       "      <td>-46.637529</td>\n",
       "      <td>3fc1728dbe8a2b9375d4b530b8932550</td>\n",
       "      <td>8910eb29996c4c8905499106240ad3f9</td>\n",
       "      <td>sao paulo</td>\n",
       "      <td>...</td>\n",
       "      <td>7.39</td>\n",
       "      <td>credit_card</td>\n",
       "      <td>1756f3a6e91c1cb546124d076b62fb14</td>\n",
       "      <td>5</td>\n",
       "      <td>delivered</td>\n",
       "      <td>2979.450000</td>\n",
       "      <td>20720.633333</td>\n",
       "      <td>18.083333</td>\n",
       "      <td>1129.633333</td>\n",
       "      <td>Fast</td>\n",
       "    </tr>\n",
       "    <tr>\n",
       "      <th>5</th>\n",
       "      <td>5</td>\n",
       "      <td>1035</td>\n",
       "      <td>-23.541578</td>\n",
       "      <td>-46.641607</td>\n",
       "      <td>2565</td>\n",
       "      <td>-23.486109</td>\n",
       "      <td>-46.668268</td>\n",
       "      <td>f3e39e72d0f4d6e158f2ead42a5d4f43</td>\n",
       "      <td>9f0d87c00711095a2247e9aeaf6b6927</td>\n",
       "      <td>sao paulo</td>\n",
       "      <td>...</td>\n",
       "      <td>7.78</td>\n",
       "      <td>credit_card</td>\n",
       "      <td>ec22439217b0a66226e9117748f05dc6</td>\n",
       "      <td>4</td>\n",
       "      <td>delivered</td>\n",
       "      <td>5710.783333</td>\n",
       "      <td>20676.716667</td>\n",
       "      <td>17.883333</td>\n",
       "      <td>1618.866667</td>\n",
       "      <td>Fast</td>\n",
       "    </tr>\n",
       "    <tr>\n",
       "      <th>6</th>\n",
       "      <td>6</td>\n",
       "      <td>1035</td>\n",
       "      <td>-23.541578</td>\n",
       "      <td>-46.641607</td>\n",
       "      <td>13160</td>\n",
       "      <td>-22.559120</td>\n",
       "      <td>-47.165168</td>\n",
       "      <td>814b41afcb94cb533af057e10587da20</td>\n",
       "      <td>e75338700ec94ad6e634ee7fe05a14b4</td>\n",
       "      <td>artur nogueira</td>\n",
       "      <td>...</td>\n",
       "      <td>8.40</td>\n",
       "      <td>credit_card</td>\n",
       "      <td>f84b69ed2560aa2921b9a1eacafbb7fb</td>\n",
       "      <td>5</td>\n",
       "      <td>delivered</td>\n",
       "      <td>4802.333333</td>\n",
       "      <td>13573.583333</td>\n",
       "      <td>9.350000</td>\n",
       "      <td>1830.133333</td>\n",
       "      <td>Fast</td>\n",
       "    </tr>\n",
       "    <tr>\n",
       "      <th>7</th>\n",
       "      <td>7</td>\n",
       "      <td>1035</td>\n",
       "      <td>-23.541578</td>\n",
       "      <td>-46.641607</td>\n",
       "      <td>13160</td>\n",
       "      <td>-22.559120</td>\n",
       "      <td>-47.165168</td>\n",
       "      <td>814b41afcb94cb533af057e10587da20</td>\n",
       "      <td>e75338700ec94ad6e634ee7fe05a14b4</td>\n",
       "      <td>artur nogueira</td>\n",
       "      <td>...</td>\n",
       "      <td>8.40</td>\n",
       "      <td>voucher</td>\n",
       "      <td>f84b69ed2560aa2921b9a1eacafbb7fb</td>\n",
       "      <td>5</td>\n",
       "      <td>delivered</td>\n",
       "      <td>4802.333333</td>\n",
       "      <td>13573.583333</td>\n",
       "      <td>9.350000</td>\n",
       "      <td>1830.133333</td>\n",
       "      <td>Fast</td>\n",
       "    </tr>\n",
       "    <tr>\n",
       "      <th>8</th>\n",
       "      <td>8</td>\n",
       "      <td>1035</td>\n",
       "      <td>-23.541578</td>\n",
       "      <td>-46.641607</td>\n",
       "      <td>13270</td>\n",
       "      <td>-22.976619</td>\n",
       "      <td>-47.010715</td>\n",
       "      <td>30e44634f95a0c8423585cddd8d89c12</td>\n",
       "      <td>92ea89cc73adda82fbaf897a48947927</td>\n",
       "      <td>valinhos</td>\n",
       "      <td>...</td>\n",
       "      <td>7.39</td>\n",
       "      <td>credit_card</td>\n",
       "      <td>3718196ea4217ccc3afd692d0c3b3145</td>\n",
       "      <td>5</td>\n",
       "      <td>delivered</td>\n",
       "      <td>8817.616667</td>\n",
       "      <td>17849.116667</td>\n",
       "      <td>17.033333</td>\n",
       "      <td>3170.966667</td>\n",
       "      <td>Fast</td>\n",
       "    </tr>\n",
       "    <tr>\n",
       "      <th>9</th>\n",
       "      <td>9</td>\n",
       "      <td>1035</td>\n",
       "      <td>-23.541578</td>\n",
       "      <td>-46.641607</td>\n",
       "      <td>13270</td>\n",
       "      <td>-22.976619</td>\n",
       "      <td>-47.010715</td>\n",
       "      <td>30e44634f95a0c8423585cddd8d89c12</td>\n",
       "      <td>92ea89cc73adda82fbaf897a48947927</td>\n",
       "      <td>valinhos</td>\n",
       "      <td>...</td>\n",
       "      <td>7.39</td>\n",
       "      <td>credit_card</td>\n",
       "      <td>3718196ea4217ccc3afd692d0c3b3145</td>\n",
       "      <td>5</td>\n",
       "      <td>delivered</td>\n",
       "      <td>8817.616667</td>\n",
       "      <td>17849.116667</td>\n",
       "      <td>17.033333</td>\n",
       "      <td>3170.966667</td>\n",
       "      <td>Fast</td>\n",
       "    </tr>\n",
       "    <tr>\n",
       "      <th>10</th>\n",
       "      <td>10</td>\n",
       "      <td>1035</td>\n",
       "      <td>-23.541578</td>\n",
       "      <td>-46.641607</td>\n",
       "      <td>13270</td>\n",
       "      <td>-22.976619</td>\n",
       "      <td>-47.010715</td>\n",
       "      <td>30e44634f95a0c8423585cddd8d89c12</td>\n",
       "      <td>92ea89cc73adda82fbaf897a48947927</td>\n",
       "      <td>valinhos</td>\n",
       "      <td>...</td>\n",
       "      <td>7.39</td>\n",
       "      <td>credit_card</td>\n",
       "      <td>3718196ea4217ccc3afd692d0c3b3145</td>\n",
       "      <td>5</td>\n",
       "      <td>delivered</td>\n",
       "      <td>8817.616667</td>\n",
       "      <td>17849.116667</td>\n",
       "      <td>17.033333</td>\n",
       "      <td>3170.966667</td>\n",
       "      <td>Fast</td>\n",
       "    </tr>\n",
       "    <tr>\n",
       "      <th>11</th>\n",
       "      <td>11</td>\n",
       "      <td>1035</td>\n",
       "      <td>-23.541578</td>\n",
       "      <td>-46.641607</td>\n",
       "      <td>13270</td>\n",
       "      <td>-22.976619</td>\n",
       "      <td>-47.010715</td>\n",
       "      <td>30e44634f95a0c8423585cddd8d89c12</td>\n",
       "      <td>92ea89cc73adda82fbaf897a48947927</td>\n",
       "      <td>valinhos</td>\n",
       "      <td>...</td>\n",
       "      <td>7.39</td>\n",
       "      <td>credit_card</td>\n",
       "      <td>3718196ea4217ccc3afd692d0c3b3145</td>\n",
       "      <td>5</td>\n",
       "      <td>delivered</td>\n",
       "      <td>8817.616667</td>\n",
       "      <td>17849.116667</td>\n",
       "      <td>17.033333</td>\n",
       "      <td>3170.966667</td>\n",
       "      <td>Fast</td>\n",
       "    </tr>\n",
       "    <tr>\n",
       "      <th>12</th>\n",
       "      <td>12</td>\n",
       "      <td>1035</td>\n",
       "      <td>-23.541578</td>\n",
       "      <td>-46.641607</td>\n",
       "      <td>22713</td>\n",
       "      <td>-22.930927</td>\n",
       "      <td>-43.384986</td>\n",
       "      <td>ea1e5f694966f31b8c471264d333db3a</td>\n",
       "      <td>7ba3c2ea5883d359084a2c399cc88f02</td>\n",
       "      <td>rio de janeiro</td>\n",
       "      <td>...</td>\n",
       "      <td>14.10</td>\n",
       "      <td>credit_card</td>\n",
       "      <td>f5cdf7d742ae77c8bc3c730faf420fdd</td>\n",
       "      <td>1</td>\n",
       "      <td>delivered</td>\n",
       "      <td>16120.116667</td>\n",
       "      <td>33597.500000</td>\n",
       "      <td>12.933333</td>\n",
       "      <td>5891.966667</td>\n",
       "      <td>Average</td>\n",
       "    </tr>\n",
       "    <tr>\n",
       "      <th>13</th>\n",
       "      <td>13</td>\n",
       "      <td>1035</td>\n",
       "      <td>-23.541578</td>\n",
       "      <td>-46.641607</td>\n",
       "      <td>26521</td>\n",
       "      <td>-22.807041</td>\n",
       "      <td>-43.432570</td>\n",
       "      <td>c863c811a63c25c93715a68f6df28ac3</td>\n",
       "      <td>854a3c898518d0d9b3501cda7b1894f8</td>\n",
       "      <td>nilopolis</td>\n",
       "      <td>...</td>\n",
       "      <td>15.30</td>\n",
       "      <td>credit_card</td>\n",
       "      <td>317194cc5cad0cda0905be2bd5e9ada3</td>\n",
       "      <td>3</td>\n",
       "      <td>delivered</td>\n",
       "      <td>19111.850000</td>\n",
       "      <td>36348.983333</td>\n",
       "      <td>20.466667</td>\n",
       "      <td>2944.533333</td>\n",
       "      <td>Average</td>\n",
       "    </tr>\n",
       "    <tr>\n",
       "      <th>14</th>\n",
       "      <td>14</td>\n",
       "      <td>1035</td>\n",
       "      <td>-23.541578</td>\n",
       "      <td>-46.641607</td>\n",
       "      <td>30431</td>\n",
       "      <td>-19.946083</td>\n",
       "      <td>-43.966746</td>\n",
       "      <td>1195059ff946475e0a67380b989ebd21</td>\n",
       "      <td>f78510c2bc0b6eb2090e349fbfc3adc0</td>\n",
       "      <td>belo horizonte</td>\n",
       "      <td>...</td>\n",
       "      <td>14.10</td>\n",
       "      <td>credit_card</td>\n",
       "      <td>86c0f526aa27e3f7e2e9c26f7bc6b0b2</td>\n",
       "      <td>4</td>\n",
       "      <td>delivered</td>\n",
       "      <td>18709.900000</td>\n",
       "      <td>29061.250000</td>\n",
       "      <td>11.616667</td>\n",
       "      <td>2610.466667</td>\n",
       "      <td>Average</td>\n",
       "    </tr>\n",
       "    <tr>\n",
       "      <th>15</th>\n",
       "      <td>15</td>\n",
       "      <td>1035</td>\n",
       "      <td>-23.541578</td>\n",
       "      <td>-46.641607</td>\n",
       "      <td>-25726</td>\n",
       "      <td>-17.185851</td>\n",
       "      <td>-41.697965</td>\n",
       "      <td>cdc65c1e2b591b18e25b2ad1a08cc50b</td>\n",
       "      <td>eaf1da1fd267487c4dfb7b564011cf8d</td>\n",
       "      <td>carai</td>\n",
       "      <td>...</td>\n",
       "      <td>18.23</td>\n",
       "      <td>credit_card</td>\n",
       "      <td>d0d97fe29da75831e35ada1fcce2e07b</td>\n",
       "      <td>5</td>\n",
       "      <td>delivered</td>\n",
       "      <td>13317.033333</td>\n",
       "      <td>33439.083333</td>\n",
       "      <td>9.500000</td>\n",
       "      <td>2951.250000</td>\n",
       "      <td>Average</td>\n",
       "    </tr>\n",
       "    <tr>\n",
       "      <th>16</th>\n",
       "      <td>16</td>\n",
       "      <td>1035</td>\n",
       "      <td>-23.541578</td>\n",
       "      <td>-46.641607</td>\n",
       "      <td>-19936</td>\n",
       "      <td>-14.796809</td>\n",
       "      <td>-39.283966</td>\n",
       "      <td>94fa5fb873b594639bd9eb8ebb2bbe8a</td>\n",
       "      <td>9c7e78f00bcba203b8a9d4fc5be7fb72</td>\n",
       "      <td>itabuna</td>\n",
       "      <td>...</td>\n",
       "      <td>22.13</td>\n",
       "      <td>credit_card</td>\n",
       "      <td>0b7c6cf831e0b0f81b4003e5587566b6</td>\n",
       "      <td>5</td>\n",
       "      <td>delivered</td>\n",
       "      <td>24450.933333</td>\n",
       "      <td>41144.000000</td>\n",
       "      <td>16.683333</td>\n",
       "      <td>3400.750000</td>\n",
       "      <td>Average</td>\n",
       "    </tr>\n",
       "    <tr>\n",
       "      <th>17</th>\n",
       "      <td>17</td>\n",
       "      <td>1035</td>\n",
       "      <td>-23.541578</td>\n",
       "      <td>-46.641607</td>\n",
       "      <td>-5176</td>\n",
       "      <td>-3.748952</td>\n",
       "      <td>-38.584879</td>\n",
       "      <td>c63304e16787c8a326c2a53765e5adb4</td>\n",
       "      <td>b237622aa3c51e457ec662d4b9f4bdb7</td>\n",
       "      <td>fortaleza</td>\n",
       "      <td>...</td>\n",
       "      <td>19.04</td>\n",
       "      <td>credit_card</td>\n",
       "      <td>2c4950e914ab4ddf45e06294f5f800b2</td>\n",
       "      <td>1</td>\n",
       "      <td>delivered</td>\n",
       "      <td>46682.650000</td>\n",
       "      <td>32240.183333</td>\n",
       "      <td>15.883333</td>\n",
       "      <td>3147.033333</td>\n",
       "      <td>Slow</td>\n",
       "    </tr>\n",
       "    <tr>\n",
       "      <th>18</th>\n",
       "      <td>18</td>\n",
       "      <td>1035</td>\n",
       "      <td>-23.541578</td>\n",
       "      <td>-46.641607</td>\n",
       "      <td>24474</td>\n",
       "      <td>-30.032150</td>\n",
       "      <td>-51.232552</td>\n",
       "      <td>5ea6e9b6942f579e279a530dcb100be5</td>\n",
       "      <td>c6bf96b6f53aaff41721884ab3067f15</td>\n",
       "      <td>porto alegre</td>\n",
       "      <td>...</td>\n",
       "      <td>15.45</td>\n",
       "      <td>boleto</td>\n",
       "      <td>64863429982808e5c0fb035216857e94</td>\n",
       "      <td>5</td>\n",
       "      <td>delivered</td>\n",
       "      <td>13184.400000</td>\n",
       "      <td>32342.633333</td>\n",
       "      <td>2554.200000</td>\n",
       "      <td>2726.633333</td>\n",
       "      <td>Average</td>\n",
       "    </tr>\n",
       "    <tr>\n",
       "      <th>19</th>\n",
       "      <td>19</td>\n",
       "      <td>1039</td>\n",
       "      <td>-23.541883</td>\n",
       "      <td>-46.639919</td>\n",
       "      <td>20540</td>\n",
       "      <td>-22.921733</td>\n",
       "      <td>-43.258689</td>\n",
       "      <td>22aa400bd51a0858f743c1e4123d1fd9</td>\n",
       "      <td>d4f091ba355fc4b85deeeb833074ea9b</td>\n",
       "      <td>rio de janeiro</td>\n",
       "      <td>...</td>\n",
       "      <td>18.63</td>\n",
       "      <td>credit_card</td>\n",
       "      <td>e69832c1c96eebbb113e5ab599413557</td>\n",
       "      <td>5</td>\n",
       "      <td>delivered</td>\n",
       "      <td>15598.966667</td>\n",
       "      <td>54934.483333</td>\n",
       "      <td>409.750000</td>\n",
       "      <td>2418.483333</td>\n",
       "      <td>Average</td>\n",
       "    </tr>\n",
       "  </tbody>\n",
       "</table>\n",
       "<p>20 rows × 29 columns</p>\n",
       "</div>"
      ],
      "text/plain": [
       "    Unnamed: 0  Seller_Zip  Seller_Lat  Seller_Long  Customer_Zip  \\\n",
       "0            0        1041  -23.544392   -46.639499          7082   \n",
       "1            1        1041  -23.544392   -46.639499          4718   \n",
       "2            2        1035  -23.541578   -46.641607          1525   \n",
       "3            3        1035  -23.541578   -46.641607          1525   \n",
       "4            4        1035  -23.541578   -46.641607          1525   \n",
       "5            5        1035  -23.541578   -46.641607          2565   \n",
       "6            6        1035  -23.541578   -46.641607         13160   \n",
       "7            7        1035  -23.541578   -46.641607         13160   \n",
       "8            8        1035  -23.541578   -46.641607         13270   \n",
       "9            9        1035  -23.541578   -46.641607         13270   \n",
       "10          10        1035  -23.541578   -46.641607         13270   \n",
       "11          11        1035  -23.541578   -46.641607         13270   \n",
       "12          12        1035  -23.541578   -46.641607         22713   \n",
       "13          13        1035  -23.541578   -46.641607         26521   \n",
       "14          14        1035  -23.541578   -46.641607         30431   \n",
       "15          15        1035  -23.541578   -46.641607        -25726   \n",
       "16          16        1035  -23.541578   -46.641607        -19936   \n",
       "17          17        1035  -23.541578   -46.641607         -5176   \n",
       "18          18        1035  -23.541578   -46.641607         24474   \n",
       "19          19        1039  -23.541883   -46.639919         20540   \n",
       "\n",
       "    Customer_Lat  Customer_Long                       Customer_ID  \\\n",
       "0     -23.434352     -46.542897  f3a2d5b49cc090c679649818bc3f8e8e   \n",
       "1     -15.820763     -47.901087  b84999d47cecf126835a23650ee4ecb8   \n",
       "2     -23.567009     -46.637529  3fc1728dbe8a2b9375d4b530b8932550   \n",
       "3     -23.567009     -46.637529  3fc1728dbe8a2b9375d4b530b8932550   \n",
       "4     -23.567009     -46.637529  3fc1728dbe8a2b9375d4b530b8932550   \n",
       "5     -23.486109     -46.668268  f3e39e72d0f4d6e158f2ead42a5d4f43   \n",
       "6     -22.559120     -47.165168  814b41afcb94cb533af057e10587da20   \n",
       "7     -22.559120     -47.165168  814b41afcb94cb533af057e10587da20   \n",
       "8     -22.976619     -47.010715  30e44634f95a0c8423585cddd8d89c12   \n",
       "9     -22.976619     -47.010715  30e44634f95a0c8423585cddd8d89c12   \n",
       "10    -22.976619     -47.010715  30e44634f95a0c8423585cddd8d89c12   \n",
       "11    -22.976619     -47.010715  30e44634f95a0c8423585cddd8d89c12   \n",
       "12    -22.930927     -43.384986  ea1e5f694966f31b8c471264d333db3a   \n",
       "13    -22.807041     -43.432570  c863c811a63c25c93715a68f6df28ac3   \n",
       "14    -19.946083     -43.966746  1195059ff946475e0a67380b989ebd21   \n",
       "15    -17.185851     -41.697965  cdc65c1e2b591b18e25b2ad1a08cc50b   \n",
       "16    -14.796809     -39.283966  94fa5fb873b594639bd9eb8ebb2bbe8a   \n",
       "17     -3.748952     -38.584879  c63304e16787c8a326c2a53765e5adb4   \n",
       "18    -30.032150     -51.232552  5ea6e9b6942f579e279a530dcb100be5   \n",
       "19    -22.921733     -43.258689  22aa400bd51a0858f743c1e4123d1fd9   \n",
       "\n",
       "                  Customer_Unique_ID   Customer_City  ... Freight_Value  \\\n",
       "0   43926f36ab519f97f4c9ce01c6183c9c       guarulhos  ...          9.57   \n",
       "1   04efac4a29eec2c5662b65e87291ec38        brasilia  ...         19.15   \n",
       "2   8910eb29996c4c8905499106240ad3f9       sao paulo  ...          7.39   \n",
       "3   8910eb29996c4c8905499106240ad3f9       sao paulo  ...          7.39   \n",
       "4   8910eb29996c4c8905499106240ad3f9       sao paulo  ...          7.39   \n",
       "5   9f0d87c00711095a2247e9aeaf6b6927       sao paulo  ...          7.78   \n",
       "6   e75338700ec94ad6e634ee7fe05a14b4  artur nogueira  ...          8.40   \n",
       "7   e75338700ec94ad6e634ee7fe05a14b4  artur nogueira  ...          8.40   \n",
       "8   92ea89cc73adda82fbaf897a48947927        valinhos  ...          7.39   \n",
       "9   92ea89cc73adda82fbaf897a48947927        valinhos  ...          7.39   \n",
       "10  92ea89cc73adda82fbaf897a48947927        valinhos  ...          7.39   \n",
       "11  92ea89cc73adda82fbaf897a48947927        valinhos  ...          7.39   \n",
       "12  7ba3c2ea5883d359084a2c399cc88f02  rio de janeiro  ...         14.10   \n",
       "13  854a3c898518d0d9b3501cda7b1894f8       nilopolis  ...         15.30   \n",
       "14  f78510c2bc0b6eb2090e349fbfc3adc0  belo horizonte  ...         14.10   \n",
       "15  eaf1da1fd267487c4dfb7b564011cf8d           carai  ...         18.23   \n",
       "16  9c7e78f00bcba203b8a9d4fc5be7fb72         itabuna  ...         22.13   \n",
       "17  b237622aa3c51e457ec662d4b9f4bdb7       fortaleza  ...         19.04   \n",
       "18  c6bf96b6f53aaff41721884ab3067f15    porto alegre  ...         15.45   \n",
       "19  d4f091ba355fc4b85deeeb833074ea9b  rio de janeiro  ...         18.63   \n",
       "\n",
       "   Payment_Type                         review_id Review_Score Order_Status  \\\n",
       "0   credit_card  fa0564acf6469e703a848bccd7be6de9            5    delivered   \n",
       "1   credit_card  3322460564fc8f370b077b7e49d733ad            4    delivered   \n",
       "2   credit_card  1756f3a6e91c1cb546124d076b62fb14            5    delivered   \n",
       "3   credit_card  1756f3a6e91c1cb546124d076b62fb14            5    delivered   \n",
       "4   credit_card  1756f3a6e91c1cb546124d076b62fb14            5    delivered   \n",
       "5   credit_card  ec22439217b0a66226e9117748f05dc6            4    delivered   \n",
       "6   credit_card  f84b69ed2560aa2921b9a1eacafbb7fb            5    delivered   \n",
       "7       voucher  f84b69ed2560aa2921b9a1eacafbb7fb            5    delivered   \n",
       "8   credit_card  3718196ea4217ccc3afd692d0c3b3145            5    delivered   \n",
       "9   credit_card  3718196ea4217ccc3afd692d0c3b3145            5    delivered   \n",
       "10  credit_card  3718196ea4217ccc3afd692d0c3b3145            5    delivered   \n",
       "11  credit_card  3718196ea4217ccc3afd692d0c3b3145            5    delivered   \n",
       "12  credit_card  f5cdf7d742ae77c8bc3c730faf420fdd            1    delivered   \n",
       "13  credit_card  317194cc5cad0cda0905be2bd5e9ada3            3    delivered   \n",
       "14  credit_card  86c0f526aa27e3f7e2e9c26f7bc6b0b2            4    delivered   \n",
       "15  credit_card  d0d97fe29da75831e35ada1fcce2e07b            5    delivered   \n",
       "16  credit_card  0b7c6cf831e0b0f81b4003e5587566b6            5    delivered   \n",
       "17  credit_card  2c4950e914ab4ddf45e06294f5f800b2            1    delivered   \n",
       "18       boleto  64863429982808e5c0fb035216857e94            5    delivered   \n",
       "19  credit_card  e69832c1c96eebbb113e5ab599413557            5    delivered   \n",
       "\n",
       "   Delivery-Purchase_Time_Difference_Min  \\\n",
       "0                            2707.266667   \n",
       "1                           14353.433333   \n",
       "2                            2979.450000   \n",
       "3                            2979.450000   \n",
       "4                            2979.450000   \n",
       "5                            5710.783333   \n",
       "6                            4802.333333   \n",
       "7                            4802.333333   \n",
       "8                            8817.616667   \n",
       "9                            8817.616667   \n",
       "10                           8817.616667   \n",
       "11                           8817.616667   \n",
       "12                          16120.116667   \n",
       "13                          19111.850000   \n",
       "14                          18709.900000   \n",
       "15                          13317.033333   \n",
       "16                          24450.933333   \n",
       "17                          46682.650000   \n",
       "18                          13184.400000   \n",
       "19                          15598.966667   \n",
       "\n",
       "    Estimated-Purchase_Time_Difference_Min  \\\n",
       "0                             33208.433333   \n",
       "1                             23275.033333   \n",
       "2                             20720.633333   \n",
       "3                             20720.633333   \n",
       "4                             20720.633333   \n",
       "5                             20676.716667   \n",
       "6                             13573.583333   \n",
       "7                             13573.583333   \n",
       "8                             17849.116667   \n",
       "9                             17849.116667   \n",
       "10                            17849.116667   \n",
       "11                            17849.116667   \n",
       "12                            33597.500000   \n",
       "13                            36348.983333   \n",
       "14                            29061.250000   \n",
       "15                            33439.083333   \n",
       "16                            41144.000000   \n",
       "17                            32240.183333   \n",
       "18                            32342.633333   \n",
       "19                            54934.483333   \n",
       "\n",
       "   Approval-Purchase_Time_Difference_Min  \\\n",
       "0                              27.683333   \n",
       "1                            1128.650000   \n",
       "2                              18.083333   \n",
       "3                              18.083333   \n",
       "4                              18.083333   \n",
       "5                              17.883333   \n",
       "6                               9.350000   \n",
       "7                               9.350000   \n",
       "8                              17.033333   \n",
       "9                              17.033333   \n",
       "10                             17.033333   \n",
       "11                             17.033333   \n",
       "12                             12.933333   \n",
       "13                             20.466667   \n",
       "14                             11.616667   \n",
       "15                              9.500000   \n",
       "16                             16.683333   \n",
       "17                             15.883333   \n",
       "18                           2554.200000   \n",
       "19                            409.750000   \n",
       "\n",
       "    Carrier_Delivered-Order_Time_Difference_Min  Fulfillment Time  \n",
       "0                                    723.433333              Fast  \n",
       "1                                   2314.033333           Average  \n",
       "2                                   1129.633333              Fast  \n",
       "3                                   1129.633333              Fast  \n",
       "4                                   1129.633333              Fast  \n",
       "5                                   1618.866667              Fast  \n",
       "6                                   1830.133333              Fast  \n",
       "7                                   1830.133333              Fast  \n",
       "8                                   3170.966667              Fast  \n",
       "9                                   3170.966667              Fast  \n",
       "10                                  3170.966667              Fast  \n",
       "11                                  3170.966667              Fast  \n",
       "12                                  5891.966667           Average  \n",
       "13                                  2944.533333           Average  \n",
       "14                                  2610.466667           Average  \n",
       "15                                  2951.250000           Average  \n",
       "16                                  3400.750000           Average  \n",
       "17                                  3147.033333              Slow  \n",
       "18                                  2726.633333           Average  \n",
       "19                                  2418.483333           Average  \n",
       "\n",
       "[20 rows x 29 columns]"
      ]
     },
     "execution_count": 35,
     "metadata": {},
     "output_type": "execute_result"
    }
   ],
   "source": [
    "df.head(20)"
   ]
  },
  {
   "cell_type": "code",
   "execution_count": 36,
   "id": "18848756",
   "metadata": {},
   "outputs": [
    {
     "data": {
      "text/plain": [
       "(116750, 29)"
      ]
     },
     "execution_count": 36,
     "metadata": {},
     "output_type": "execute_result"
    }
   ],
   "source": [
    "df.shape"
   ]
  },
  {
   "cell_type": "markdown",
   "id": "2629f1a6",
   "metadata": {},
   "source": [
    "### Rename Columns to be Clearer"
   ]
  },
  {
   "cell_type": "code",
   "execution_count": 43,
   "id": "52f6ca19",
   "metadata": {},
   "outputs": [],
   "source": [
    "df1 = df.rename(columns = {'Seller_Zip':'Seller Zip','Seller_Lat':'Seller Lat','Seller_Long':'Seller Lng','Customer_Zip':'Customer Zip',\n",
    "                     'Customer_Lat':'Customer Lat','Customer_Long':'Customer Lng','Customer_ID':'Customer ID','Customer_Unique_ID':'Customer Unique ID', 'Customer_City':'Customer City',\n",
    "                     'Customer_State':'Customer State','Seller_ID':'Seller ID','Seller_City':'Seller City','Seller_State':'Seller State',\n",
    "                     'Product_ID':'Product ID','Product_Category':'Product Category','Product_Weight(g)':'Product Weight(g)','order_id':'Order ID',\n",
    "                     'Freight_Value':'Freight Value','Payment_Type':'Payment Type','review_id':'Review ID','Review_Score':'Review Score','Order_Status':'Order Status',\n",
    "                     'Delivery-Purchase_Time_Difference_Min':'Total Delivery Time (Min)','Estimated-Purchase_Time_Difference_Min':'Est.Total Delivery Time (Min)','Approval-Purchase_Time_Difference_Min':'Purchase-to-Approval Time (Min)',\n",
    "                     'Carrier_Delivered-Order_Time_Difference_Min':'Order-to-Carrier Time (Min)'})"
   ]
  },
  {
   "cell_type": "markdown",
   "id": "2eae93af",
   "metadata": {},
   "source": [
    "#### Check for Missing Values"
   ]
  },
  {
   "cell_type": "code",
   "execution_count": 44,
   "id": "eabb06a7",
   "metadata": {},
   "outputs": [
    {
     "data": {
      "text/plain": [
       "Unnamed: 0                            0\n",
       "Seller Zip                            0\n",
       "Seller Lat                            0\n",
       "Seller Lng                            0\n",
       "Customer Zip                          0\n",
       "Customer Lat                          0\n",
       "Customer Lng                          0\n",
       "Customer ID                           0\n",
       "Customer Unique ID                    0\n",
       "Customer City                         0\n",
       "Customer State                        0\n",
       "Seller ID                             0\n",
       "Seller City                           0\n",
       "Seller State                          0\n",
       "Product ID                            0\n",
       "Product Category                   1688\n",
       "Product Weight(g)                    20\n",
       "Order ID                              0\n",
       "Price                                 0\n",
       "Freight Value                         0\n",
       "Payment Type                          0\n",
       "Review ID                             0\n",
       "Review Score                          0\n",
       "Order Status                          0\n",
       "Total Delivery Time (Min)          2454\n",
       "Est.Total Delivery Time (Min)         0\n",
       "Purchase-to-Approval Time (Min)      15\n",
       "Order-to-Carrier Time (Min)        1225\n",
       "Fulfillment Time                   2454\n",
       "dtype: int64"
      ]
     },
     "execution_count": 44,
     "metadata": {},
     "output_type": "execute_result"
    }
   ],
   "source": [
    "df1.isnull().sum()"
   ]
  },
  {
   "cell_type": "code",
   "execution_count": 45,
   "id": "26b4e476",
   "metadata": {},
   "outputs": [],
   "source": [
    "#Impute the mean for the product weight as there are so few missing values. We'lld do the same for the Total Delivery Time, Purchase-to-Approval Time, and Order-to-Carrier Time columns.\n",
    "df1['Product Weight(g)'].fillna(df1['Product Weight(g)'].median(), inplace = True)\n",
    "df1['Total Delivery Time (Min)'].fillna(df1['Total Delivery Time (Min)'].median(), inplace = True)\n",
    "df1['Purchase-to-Approval Time (Min)'].fillna(df1['Purchase-to-Approval Time (Min)'].median(), inplace = True)\n",
    "df1['Order-to-Carrier Time (Min)'].fillna(df1['Order-to-Carrier Time (Min)'].median(), inplace = True)"
   ]
  },
  {
   "cell_type": "code",
   "execution_count": 46,
   "id": "cb9afdeb",
   "metadata": {},
   "outputs": [
    {
     "data": {
      "text/plain": [
       "Unnamed: 0                            0\n",
       "Seller Zip                            0\n",
       "Seller Lat                            0\n",
       "Seller Lng                            0\n",
       "Customer Zip                          0\n",
       "Customer Lat                          0\n",
       "Customer Lng                          0\n",
       "Customer ID                           0\n",
       "Customer Unique ID                    0\n",
       "Customer City                         0\n",
       "Customer State                        0\n",
       "Seller ID                             0\n",
       "Seller City                           0\n",
       "Seller State                          0\n",
       "Product ID                            0\n",
       "Product Category                   1688\n",
       "Product Weight(g)                     0\n",
       "Order ID                              0\n",
       "Price                                 0\n",
       "Freight Value                         0\n",
       "Payment Type                          0\n",
       "Review ID                             0\n",
       "Review Score                          0\n",
       "Order Status                          0\n",
       "Total Delivery Time (Min)             0\n",
       "Est.Total Delivery Time (Min)         0\n",
       "Purchase-to-Approval Time (Min)       0\n",
       "Order-to-Carrier Time (Min)           0\n",
       "Fulfillment Time                   2454\n",
       "dtype: int64"
      ]
     },
     "execution_count": 46,
     "metadata": {},
     "output_type": "execute_result"
    }
   ],
   "source": [
    "df1.isnull().sum()"
   ]
  },
  {
   "cell_type": "markdown",
   "id": "90264091",
   "metadata": {},
   "source": [
    "#### Check for Duplicate Values"
   ]
  },
  {
   "cell_type": "code",
   "execution_count": 47,
   "id": "17eba8ef",
   "metadata": {},
   "outputs": [],
   "source": [
    "dups = df1.duplicated()"
   ]
  },
  {
   "cell_type": "code",
   "execution_count": 48,
   "id": "6a6af088",
   "metadata": {},
   "outputs": [
    {
     "data": {
      "text/plain": [
       "(116750,)"
      ]
     },
     "execution_count": 48,
     "metadata": {},
     "output_type": "execute_result"
    }
   ],
   "source": [
    "dups.shape"
   ]
  },
  {
   "cell_type": "markdown",
   "id": "36479dad",
   "metadata": {},
   "source": [
    "#### Check for Extreme Values"
   ]
  },
  {
   "cell_type": "markdown",
   "id": "b973e331",
   "metadata": {},
   "source": [
    "##### Total Delivery Time (Min)"
   ]
  },
  {
   "cell_type": "code",
   "execution_count": 78,
   "id": "6551c4f9",
   "metadata": {},
   "outputs": [
    {
     "data": {
      "text/plain": [
       "<AxesSubplot:xlabel='Total Delivery Time (Min)', ylabel='Count'>"
      ]
     },
     "execution_count": 78,
     "metadata": {},
     "output_type": "execute_result"
    },
    {
     "data": {
      "image/png": "[encoded data removed]",
      "text/plain": [
       "<Figure size 640x480 with 1 Axes>"
      ]
     },
     "metadata": {},
     "output_type": "display_data"
    }
   ],
   "source": [
    "#Plot the values of the Total Delivery Time (Min) column on a histogram to see if there are any extreme values that skew our results\n",
    "sns.histplot(df1['Total Delivery Time (Min)'], bins=20, kde = True)"
   ]
  },
  {
   "cell_type": "code",
   "execution_count": 163,
   "id": "097fb8f2",
   "metadata": {},
   "outputs": [
    {
     "data": {
      "text/html": [
       "<div>\n",
       "<style scoped>\n",
       "    .dataframe tbody tr th:only-of-type {\n",
       "        vertical-align: middle;\n",
       "    }\n",
       "\n",
       "    .dataframe tbody tr th {\n",
       "        vertical-align: top;\n",
       "    }\n",
       "\n",
       "    .dataframe thead th {\n",
       "        text-align: right;\n",
       "    }\n",
       "</style>\n",
       "<table border=\"1\" class=\"dataframe\">\n",
       "  <thead>\n",
       "    <tr style=\"text-align: right;\">\n",
       "      <th></th>\n",
       "      <th>Unnamed: 0</th>\n",
       "      <th>Seller Zip</th>\n",
       "      <th>Seller Lat</th>\n",
       "      <th>Seller Lng</th>\n",
       "      <th>Customer Zip</th>\n",
       "      <th>Customer Lat</th>\n",
       "      <th>Customer Lng</th>\n",
       "      <th>Customer ID</th>\n",
       "      <th>Customer Unique ID</th>\n",
       "      <th>Customer City</th>\n",
       "      <th>...</th>\n",
       "      <th>Freight Value</th>\n",
       "      <th>Payment Type</th>\n",
       "      <th>Review ID</th>\n",
       "      <th>Review Score</th>\n",
       "      <th>Order Status</th>\n",
       "      <th>Total Delivery Time (Min)</th>\n",
       "      <th>Est.Total Delivery Time (Min)</th>\n",
       "      <th>Purchase-to-Approval Time (Min)</th>\n",
       "      <th>Order-to-Carrier Time (Min)</th>\n",
       "      <th>Fulfillment Time</th>\n",
       "    </tr>\n",
       "  </thead>\n",
       "  <tbody>\n",
       "    <tr>\n",
       "      <th>1344</th>\n",
       "      <td>1344</td>\n",
       "      <td>1212</td>\n",
       "      <td>-23.537511</td>\n",
       "      <td>-46.637057</td>\n",
       "      <td>20551</td>\n",
       "      <td>-22.915371</td>\n",
       "      <td>-43.242996</td>\n",
       "      <td>d27cc8323ccff05b970998013b39e597</td>\n",
       "      <td>ce8b665ad7a00dfee2a4fbd19dedb82a</td>\n",
       "      <td>rio de janeiro</td>\n",
       "      <td>...</td>\n",
       "      <td>14.10</td>\n",
       "      <td>credit_card</td>\n",
       "      <td>ecd7b4b3060e422b5e07f2c012eb39ce</td>\n",
       "      <td>1</td>\n",
       "      <td>delivered</td>\n",
       "      <td>121896.450000</td>\n",
       "      <td>26118.083333</td>\n",
       "      <td>8.483333</td>\n",
       "      <td>2697.266667</td>\n",
       "      <td>Slow</td>\n",
       "    </tr>\n",
       "    <tr>\n",
       "      <th>1477</th>\n",
       "      <td>1477</td>\n",
       "      <td>1212</td>\n",
       "      <td>-23.537511</td>\n",
       "      <td>-46.637057</td>\n",
       "      <td>28740</td>\n",
       "      <td>-22.082361</td>\n",
       "      <td>-41.865673</td>\n",
       "      <td>938dbea1d465c3eee57f3dc8923dcb16</td>\n",
       "      <td>651da97b2f7575d76efe82f970e57116</td>\n",
       "      <td>conceicao de macabu</td>\n",
       "      <td>...</td>\n",
       "      <td>15.10</td>\n",
       "      <td>credit_card</td>\n",
       "      <td>ce1ee648483120fb4eb6e4690ad71b25</td>\n",
       "      <td>1</td>\n",
       "      <td>delivered</td>\n",
       "      <td>106683.516667</td>\n",
       "      <td>32400.166667</td>\n",
       "      <td>15.733333</td>\n",
       "      <td>3496.916667</td>\n",
       "      <td>Slow</td>\n",
       "    </tr>\n",
       "    <tr>\n",
       "      <th>3496</th>\n",
       "      <td>3496</td>\n",
       "      <td>2016</td>\n",
       "      <td>-23.500978</td>\n",
       "      <td>-46.627123</td>\n",
       "      <td>-12326</td>\n",
       "      <td>-7.998471</td>\n",
       "      <td>-34.896545</td>\n",
       "      <td>128dfb72bd29cd4dcc32059adb91c97e</td>\n",
       "      <td>0a3914c4e984aaedffc767c38030bed2</td>\n",
       "      <td>olinda</td>\n",
       "      <td>...</td>\n",
       "      <td>21.38</td>\n",
       "      <td>credit_card</td>\n",
       "      <td>1fd215a6ec72ea33cc318a0ad87b58c0</td>\n",
       "      <td>1</td>\n",
       "      <td>delivered</td>\n",
       "      <td>121205.383333</td>\n",
       "      <td>46639.983333</td>\n",
       "      <td>1431.466667</td>\n",
       "      <td>9059.600000</td>\n",
       "      <td>Slow</td>\n",
       "    </tr>\n",
       "    <tr>\n",
       "      <th>4692</th>\n",
       "      <td>4692</td>\n",
       "      <td>2310</td>\n",
       "      <td>-23.471944</td>\n",
       "      <td>-46.598645</td>\n",
       "      <td>4364</td>\n",
       "      <td>-9.974562</td>\n",
       "      <td>-67.809656</td>\n",
       "      <td>2d618e470c95c9b425cbb0cbc42683dd</td>\n",
       "      <td>f7d7fc0a59ef4363fdce6e3aa069d498</td>\n",
       "      <td>rio branco</td>\n",
       "      <td>...</td>\n",
       "      <td>27.58</td>\n",
       "      <td>credit_card</td>\n",
       "      <td>d4ed8fa83c53b696165bf10e145b1e4b</td>\n",
       "      <td>1</td>\n",
       "      <td>delivered</td>\n",
       "      <td>103965.566667</td>\n",
       "      <td>57938.783333</td>\n",
       "      <td>9.350000</td>\n",
       "      <td>3050.633333</td>\n",
       "      <td>Slow</td>\n",
       "    </tr>\n",
       "    <tr>\n",
       "      <th>5923</th>\n",
       "      <td>5923</td>\n",
       "      <td>2955</td>\n",
       "      <td>-23.468441</td>\n",
       "      <td>-46.720688</td>\n",
       "      <td>-4703</td>\n",
       "      <td>-3.795992</td>\n",
       "      <td>-38.474776</td>\n",
       "      <td>c9573cc1e246dadca50b2a74f795def3</td>\n",
       "      <td>7671178c592895e5beed747367b4a54b</td>\n",
       "      <td>fortaleza</td>\n",
       "      <td>...</td>\n",
       "      <td>17.63</td>\n",
       "      <td>credit_card</td>\n",
       "      <td>10fff4faa197b0a1b7d7b087a7cb1836</td>\n",
       "      <td>1</td>\n",
       "      <td>delivered</td>\n",
       "      <td>108984.100000</td>\n",
       "      <td>40271.500000</td>\n",
       "      <td>33.366667</td>\n",
       "      <td>1313.133333</td>\n",
       "      <td>Slow</td>\n",
       "    </tr>\n",
       "    <tr>\n",
       "      <th>...</th>\n",
       "      <td>...</td>\n",
       "      <td>...</td>\n",
       "      <td>...</td>\n",
       "      <td>...</td>\n",
       "      <td>...</td>\n",
       "      <td>...</td>\n",
       "      <td>...</td>\n",
       "      <td>...</td>\n",
       "      <td>...</td>\n",
       "      <td>...</td>\n",
       "      <td>...</td>\n",
       "      <td>...</td>\n",
       "      <td>...</td>\n",
       "      <td>...</td>\n",
       "      <td>...</td>\n",
       "      <td>...</td>\n",
       "      <td>...</td>\n",
       "      <td>...</td>\n",
       "      <td>...</td>\n",
       "      <td>...</td>\n",
       "      <td>...</td>\n",
       "    </tr>\n",
       "    <tr>\n",
       "      <th>111773</th>\n",
       "      <td>111773</td>\n",
       "      <td>88730</td>\n",
       "      <td>-28.327531</td>\n",
       "      <td>-49.180510</td>\n",
       "      <td>22621</td>\n",
       "      <td>-23.013733</td>\n",
       "      <td>-43.311539</td>\n",
       "      <td>1f19186e80a1db14a79e2acf2f21fab2</td>\n",
       "      <td>4db98cd6c721024cf56fcc4662069d72</td>\n",
       "      <td>rio de janeiro</td>\n",
       "      <td>...</td>\n",
       "      <td>25.01</td>\n",
       "      <td>credit_card</td>\n",
       "      <td>3295c59b29255af591790b625af52934</td>\n",
       "      <td>1</td>\n",
       "      <td>delivered</td>\n",
       "      <td>101243.400000</td>\n",
       "      <td>36879.516667</td>\n",
       "      <td>9.850000</td>\n",
       "      <td>158.416667</td>\n",
       "      <td>Slow</td>\n",
       "    </tr>\n",
       "    <tr>\n",
       "      <th>112009</th>\n",
       "      <td>112009</td>\n",
       "      <td>88801</td>\n",
       "      <td>-28.673779</td>\n",
       "      <td>-49.373146</td>\n",
       "      <td>-4793</td>\n",
       "      <td>-3.807448</td>\n",
       "      <td>-38.539348</td>\n",
       "      <td>58aad244991735b54dffc6781d3a508d</td>\n",
       "      <td>669d498c3802c9949bf5969d1d0fdfc6</td>\n",
       "      <td>fortaleza</td>\n",
       "      <td>...</td>\n",
       "      <td>55.42</td>\n",
       "      <td>credit_card</td>\n",
       "      <td>c1863924195066c0efabe1d582e2834c</td>\n",
       "      <td>3</td>\n",
       "      <td>delivered</td>\n",
       "      <td>102470.100000</td>\n",
       "      <td>50661.533333</td>\n",
       "      <td>8.383333</td>\n",
       "      <td>31654.266667</td>\n",
       "      <td>Slow</td>\n",
       "    </tr>\n",
       "    <tr>\n",
       "      <th>113754</th>\n",
       "      <td>113754</td>\n",
       "      <td>89204</td>\n",
       "      <td>-26.283149</td>\n",
       "      <td>-48.851285</td>\n",
       "      <td>-21216</td>\n",
       "      <td>-12.504727</td>\n",
       "      <td>-39.000225</td>\n",
       "      <td>6cbc69ef01df8d34bd134c6d828c1e53</td>\n",
       "      <td>026d6aade0923331c6065e5daa7aafda</td>\n",
       "      <td>conceicao da feira</td>\n",
       "      <td>...</td>\n",
       "      <td>29.77</td>\n",
       "      <td>credit_card</td>\n",
       "      <td>3a0a9d9d4ed9e6323a527572187a987d</td>\n",
       "      <td>4</td>\n",
       "      <td>delivered</td>\n",
       "      <td>120428.150000</td>\n",
       "      <td>40645.416667</td>\n",
       "      <td>10.550000</td>\n",
       "      <td>851.566667</td>\n",
       "      <td>Slow</td>\n",
       "    </tr>\n",
       "    <tr>\n",
       "      <th>114301</th>\n",
       "      <td>114301</td>\n",
       "      <td>89560</td>\n",
       "      <td>-27.000869</td>\n",
       "      <td>-51.145320</td>\n",
       "      <td>-1628</td>\n",
       "      <td>-4.967513</td>\n",
       "      <td>-39.011546</td>\n",
       "      <td>56033dc0fa885647a8cc84db067729ea</td>\n",
       "      <td>58c2385a00210b1ce3ad1542d4ab16fe</td>\n",
       "      <td>quixada</td>\n",
       "      <td>...</td>\n",
       "      <td>100.84</td>\n",
       "      <td>voucher</td>\n",
       "      <td>650f27998c7eb14a72302066cf6f8185</td>\n",
       "      <td>1</td>\n",
       "      <td>delivered</td>\n",
       "      <td>100809.516667</td>\n",
       "      <td>63625.583333</td>\n",
       "      <td>4017.316667</td>\n",
       "      <td>54777.716667</td>\n",
       "      <td>Slow</td>\n",
       "    </tr>\n",
       "    <tr>\n",
       "      <th>115833</th>\n",
       "      <td>115833</td>\n",
       "      <td>94910</td>\n",
       "      <td>-29.953554</td>\n",
       "      <td>-51.103414</td>\n",
       "      <td>22790</td>\n",
       "      <td>-23.011335</td>\n",
       "      <td>-43.450256</td>\n",
       "      <td>81e7a069c22d320446440504743833dc</td>\n",
       "      <td>80d0e258a93fb949afa542a87dc8f1a1</td>\n",
       "      <td>rio de janeiro</td>\n",
       "      <td>...</td>\n",
       "      <td>69.21</td>\n",
       "      <td>credit_card</td>\n",
       "      <td>42e81a8cda5e4b374cf5850229989070</td>\n",
       "      <td>1</td>\n",
       "      <td>delivered</td>\n",
       "      <td>101002.800000</td>\n",
       "      <td>33230.750000</td>\n",
       "      <td>23.916667</td>\n",
       "      <td>1114.850000</td>\n",
       "      <td>Slow</td>\n",
       "    </tr>\n",
       "  </tbody>\n",
       "</table>\n",
       "<p>107 rows × 29 columns</p>\n",
       "</div>"
      ],
      "text/plain": [
       "        Unnamed: 0  Seller Zip  Seller Lat  Seller Lng  Customer Zip  \\\n",
       "1344          1344        1212  -23.537511  -46.637057         20551   \n",
       "1477          1477        1212  -23.537511  -46.637057         28740   \n",
       "3496          3496        2016  -23.500978  -46.627123        -12326   \n",
       "4692          4692        2310  -23.471944  -46.598645          4364   \n",
       "5923          5923        2955  -23.468441  -46.720688         -4703   \n",
       "...            ...         ...         ...         ...           ...   \n",
       "111773      111773       88730  -28.327531  -49.180510         22621   \n",
       "112009      112009       88801  -28.673779  -49.373146         -4793   \n",
       "113754      113754       89204  -26.283149  -48.851285        -21216   \n",
       "114301      114301       89560  -27.000869  -51.145320         -1628   \n",
       "115833      115833       94910  -29.953554  -51.103414         22790   \n",
       "\n",
       "        Customer Lat  Customer Lng                       Customer ID  \\\n",
       "1344      -22.915371    -43.242996  d27cc8323ccff05b970998013b39e597   \n",
       "1477      -22.082361    -41.865673  938dbea1d465c3eee57f3dc8923dcb16   \n",
       "3496       -7.998471    -34.896545  128dfb72bd29cd4dcc32059adb91c97e   \n",
       "4692       -9.974562    -67.809656  2d618e470c95c9b425cbb0cbc42683dd   \n",
       "5923       -3.795992    -38.474776  c9573cc1e246dadca50b2a74f795def3   \n",
       "...              ...           ...                               ...   \n",
       "111773    -23.013733    -43.311539  1f19186e80a1db14a79e2acf2f21fab2   \n",
       "112009     -3.807448    -38.539348  58aad244991735b54dffc6781d3a508d   \n",
       "113754    -12.504727    -39.000225  6cbc69ef01df8d34bd134c6d828c1e53   \n",
       "114301     -4.967513    -39.011546  56033dc0fa885647a8cc84db067729ea   \n",
       "115833    -23.011335    -43.450256  81e7a069c22d320446440504743833dc   \n",
       "\n",
       "                      Customer Unique ID        Customer City  ...  \\\n",
       "1344    ce8b665ad7a00dfee2a4fbd19dedb82a       rio de janeiro  ...   \n",
       "1477    651da97b2f7575d76efe82f970e57116  conceicao de macabu  ...   \n",
       "3496    0a3914c4e984aaedffc767c38030bed2               olinda  ...   \n",
       "4692    f7d7fc0a59ef4363fdce6e3aa069d498           rio branco  ...   \n",
       "5923    7671178c592895e5beed747367b4a54b            fortaleza  ...   \n",
       "...                                  ...                  ...  ...   \n",
       "111773  4db98cd6c721024cf56fcc4662069d72       rio de janeiro  ...   \n",
       "112009  669d498c3802c9949bf5969d1d0fdfc6            fortaleza  ...   \n",
       "113754  026d6aade0923331c6065e5daa7aafda   conceicao da feira  ...   \n",
       "114301  58c2385a00210b1ce3ad1542d4ab16fe              quixada  ...   \n",
       "115833  80d0e258a93fb949afa542a87dc8f1a1       rio de janeiro  ...   \n",
       "\n",
       "       Freight Value Payment Type                         Review ID  \\\n",
       "1344           14.10  credit_card  ecd7b4b3060e422b5e07f2c012eb39ce   \n",
       "1477           15.10  credit_card  ce1ee648483120fb4eb6e4690ad71b25   \n",
       "3496           21.38  credit_card  1fd215a6ec72ea33cc318a0ad87b58c0   \n",
       "4692           27.58  credit_card  d4ed8fa83c53b696165bf10e145b1e4b   \n",
       "5923           17.63  credit_card  10fff4faa197b0a1b7d7b087a7cb1836   \n",
       "...              ...          ...                               ...   \n",
       "111773         25.01  credit_card  3295c59b29255af591790b625af52934   \n",
       "112009         55.42  credit_card  c1863924195066c0efabe1d582e2834c   \n",
       "113754         29.77  credit_card  3a0a9d9d4ed9e6323a527572187a987d   \n",
       "114301        100.84      voucher  650f27998c7eb14a72302066cf6f8185   \n",
       "115833         69.21  credit_card  42e81a8cda5e4b374cf5850229989070   \n",
       "\n",
       "       Review Score Order Status Total Delivery Time (Min)  \\\n",
       "1344              1    delivered             121896.450000   \n",
       "1477              1    delivered             106683.516667   \n",
       "3496              1    delivered             121205.383333   \n",
       "4692              1    delivered             103965.566667   \n",
       "5923              1    delivered             108984.100000   \n",
       "...             ...          ...                       ...   \n",
       "111773            1    delivered             101243.400000   \n",
       "112009            3    delivered             102470.100000   \n",
       "113754            4    delivered             120428.150000   \n",
       "114301            1    delivered             100809.516667   \n",
       "115833            1    delivered             101002.800000   \n",
       "\n",
       "        Est.Total Delivery Time (Min) Purchase-to-Approval Time (Min)  \\\n",
       "1344                     26118.083333                        8.483333   \n",
       "1477                     32400.166667                       15.733333   \n",
       "3496                     46639.983333                     1431.466667   \n",
       "4692                     57938.783333                        9.350000   \n",
       "5923                     40271.500000                       33.366667   \n",
       "...                               ...                             ...   \n",
       "111773                   36879.516667                        9.850000   \n",
       "112009                   50661.533333                        8.383333   \n",
       "113754                   40645.416667                       10.550000   \n",
       "114301                   63625.583333                     4017.316667   \n",
       "115833                   33230.750000                       23.916667   \n",
       "\n",
       "        Order-to-Carrier Time (Min)  Fulfillment Time  \n",
       "1344                    2697.266667              Slow  \n",
       "1477                    3496.916667              Slow  \n",
       "3496                    9059.600000              Slow  \n",
       "4692                    3050.633333              Slow  \n",
       "5923                    1313.133333              Slow  \n",
       "...                             ...               ...  \n",
       "111773                   158.416667              Slow  \n",
       "112009                 31654.266667              Slow  \n",
       "113754                   851.566667              Slow  \n",
       "114301                 54777.716667              Slow  \n",
       "115833                  1114.850000              Slow  \n",
       "\n",
       "[107 rows x 29 columns]"
      ]
     },
     "execution_count": 163,
     "metadata": {},
     "output_type": "execute_result"
    }
   ],
   "source": [
    "#Check how many extreme values there are\n",
    "df1[df1['Total Delivery Time (Min)'] > 100000]"
   ]
  },
  {
   "cell_type": "code",
   "execution_count": 164,
   "id": "44a75e6c",
   "metadata": {},
   "outputs": [],
   "source": [
    "#Clean the extreme values\n",
    "df1 = df1[df1['Total Delivery Time (Min)'] < 100000]"
   ]
  },
  {
   "cell_type": "code",
   "execution_count": 165,
   "id": "ba9c63ee",
   "metadata": {},
   "outputs": [
    {
     "data": {
      "text/plain": [
       "17587.69429884639"
      ]
     },
     "execution_count": 165,
     "metadata": {},
     "output_type": "execute_result"
    }
   ],
   "source": [
    "#Check the mean\n",
    "df1['Total Delivery Time (Min)'].mean()"
   ]
  },
  {
   "cell_type": "code",
   "execution_count": 166,
   "id": "90d582d8",
   "metadata": {},
   "outputs": [
    {
     "data": {
      "text/plain": [
       "14663.983333333334"
      ]
     },
     "execution_count": 166,
     "metadata": {},
     "output_type": "execute_result"
    }
   ],
   "source": [
    "#Check the median\n",
    "df1['Total Delivery Time (Min)'].median()"
   ]
  },
  {
   "cell_type": "code",
   "execution_count": 167,
   "id": "15197dbd",
   "metadata": {},
   "outputs": [
    {
     "data": {
      "text/plain": [
       "99602.76666666666"
      ]
     },
     "execution_count": 167,
     "metadata": {},
     "output_type": "execute_result"
    }
   ],
   "source": [
    "#Check the maximum\n",
    "df1['Total Delivery Time (Min)'].max()"
   ]
  },
  {
   "cell_type": "code",
   "execution_count": null,
   "id": "a552d1df",
   "metadata": {},
   "outputs": [],
   "source": []
  },
  {
   "cell_type": "code",
   "execution_count": null,
   "id": "9db12388",
   "metadata": {},
   "outputs": [],
   "source": []
  },
  {
   "cell_type": "code",
   "execution_count": null,
   "id": "e5762f02",
   "metadata": {},
   "outputs": [],
   "source": []
  },
  {
   "cell_type": "markdown",
   "id": "91cac599",
   "metadata": {},
   "source": [
    "##### Est.Total Delivery Time (Min)"
   ]
  },
  {
   "cell_type": "code",
   "execution_count": 83,
   "id": "858fffe0",
   "metadata": {},
   "outputs": [
    {
     "data": {
      "text/plain": [
       "<AxesSubplot:xlabel='Est.Total Delivery Time (Min)', ylabel='Count'>"
      ]
     },
     "execution_count": 83,
     "metadata": {},
     "output_type": "execute_result"
    },
    {
     "data": {
      "image/png": "[encoded data removed]",
      "text/plain": [
       "<Figure size 640x480 with 1 Axes>"
      ]
     },
     "metadata": {},
     "output_type": "display_data"
    }
   ],
   "source": [
    "#Plot the values of the Est.Total Delivery Time (Min) column on a histogram to see if there are any extreme values that skew our results\n",
    "sns.histplot(df1['Est.Total Delivery Time (Min)'], bins=20, kde = True)"
   ]
  },
  {
   "cell_type": "code",
   "execution_count": 84,
   "id": "2bdb53b4",
   "metadata": {},
   "outputs": [
    {
     "data": {
      "text/plain": [
       "34262.661007331706"
      ]
     },
     "execution_count": 84,
     "metadata": {},
     "output_type": "execute_result"
    }
   ],
   "source": [
    "#Check the mean\n",
    "df1['Est.Total Delivery Time (Min)'].mean()"
   ]
  },
  {
   "cell_type": "code",
   "execution_count": 85,
   "id": "287952a6",
   "metadata": {},
   "outputs": [
    {
     "data": {
      "text/plain": [
       "33473.09166666667"
      ]
     },
     "execution_count": 85,
     "metadata": {},
     "output_type": "execute_result"
    }
   ],
   "source": [
    "#Check the median\n",
    "df1['Est.Total Delivery Time (Min)'].median()"
   ]
  },
  {
   "cell_type": "code",
   "execution_count": 86,
   "id": "7d301119",
   "metadata": {},
   "outputs": [
    {
     "data": {
      "text/plain": [
       "99853.01666666666"
      ]
     },
     "execution_count": 86,
     "metadata": {},
     "output_type": "execute_result"
    }
   ],
   "source": [
    "#Check the median\n",
    "df1['Est.Total Delivery Time (Min)'].max()"
   ]
  },
  {
   "cell_type": "code",
   "execution_count": null,
   "id": "ed3d855b",
   "metadata": {},
   "outputs": [],
   "source": [
    "#Check the mean\n",
    "df1[''].mean()"
   ]
  },
  {
   "cell_type": "code",
   "execution_count": null,
   "id": "fd79b9a4",
   "metadata": {},
   "outputs": [],
   "source": [
    "#Check the median\n",
    "df1[''].median()"
   ]
  },
  {
   "cell_type": "code",
   "execution_count": null,
   "id": "f2bbca5e",
   "metadata": {},
   "outputs": [],
   "source": [
    "#Check the median\n",
    "df1[''].max()"
   ]
  },
  {
   "cell_type": "code",
   "execution_count": 55,
   "id": "cce2e22e",
   "metadata": {},
   "outputs": [],
   "source": [
    "#Clean the extreme values\n",
    "df1 = df1[df1['Est.Total Delivery Time (Min)'] < 100000]"
   ]
  },
  {
   "cell_type": "markdown",
   "id": "0f5148a3",
   "metadata": {},
   "source": [
    "##### Purchase-to-Approval Time (Min)"
   ]
  },
  {
   "cell_type": "code",
   "execution_count": 57,
   "id": "9d0c66fb",
   "metadata": {},
   "outputs": [
    {
     "data": {
      "text/plain": [
       "<AxesSubplot:xlabel='Purchase-to-Approval Time (Min)', ylabel='Count'>"
      ]
     },
     "execution_count": 57,
     "metadata": {},
     "output_type": "execute_result"
    },
    {
     "data": {
      "image/png": "[encoded data removed]",
      "text/plain": [
       "<Figure size 640x480 with 1 Axes>"
      ]
     },
     "metadata": {},
     "output_type": "display_data"
    }
   ],
   "source": [
    "#Plot the values of the column on a histogram to see if there are any extreme values that skew our results\n",
    "sns.histplot(df1['Purchase-to-Approval Time (Min)'], bins=200, kde = True)"
   ]
  },
  {
   "cell_type": "code",
   "execution_count": 58,
   "id": "f0b704bd",
   "metadata": {},
   "outputs": [
    {
     "data": {
      "text/html": [
       "<div>\n",
       "<style scoped>\n",
       "    .dataframe tbody tr th:only-of-type {\n",
       "        vertical-align: middle;\n",
       "    }\n",
       "\n",
       "    .dataframe tbody tr th {\n",
       "        vertical-align: top;\n",
       "    }\n",
       "\n",
       "    .dataframe thead th {\n",
       "        text-align: right;\n",
       "    }\n",
       "</style>\n",
       "<table border=\"1\" class=\"dataframe\">\n",
       "  <thead>\n",
       "    <tr style=\"text-align: right;\">\n",
       "      <th></th>\n",
       "      <th>Unnamed: 0</th>\n",
       "      <th>Seller Zip</th>\n",
       "      <th>Seller Lat</th>\n",
       "      <th>Seller Lng</th>\n",
       "      <th>Customer Zip</th>\n",
       "      <th>Customer Lat</th>\n",
       "      <th>Customer Lng</th>\n",
       "      <th>Customer ID</th>\n",
       "      <th>Customer Unique ID</th>\n",
       "      <th>Customer City</th>\n",
       "      <th>...</th>\n",
       "      <th>Freight Value</th>\n",
       "      <th>Payment Type</th>\n",
       "      <th>Review ID</th>\n",
       "      <th>Review Score</th>\n",
       "      <th>Order Status</th>\n",
       "      <th>Total Delivery Time (Min)</th>\n",
       "      <th>Est.Total Delivery Time (Min)</th>\n",
       "      <th>Purchase-to-Approval Time (Min)</th>\n",
       "      <th>Order-to-Carrier Time (Min)</th>\n",
       "      <th>Fulfillment Time</th>\n",
       "    </tr>\n",
       "  </thead>\n",
       "  <tbody>\n",
       "    <tr>\n",
       "      <th>102</th>\n",
       "      <td>102</td>\n",
       "      <td>1026</td>\n",
       "      <td>-23.539495</td>\n",
       "      <td>-46.632844</td>\n",
       "      <td>5893</td>\n",
       "      <td>-23.658173</td>\n",
       "      <td>-46.790237</td>\n",
       "      <td>c15eed3881abc9e06763c989679c5094</td>\n",
       "      <td>48d6d950c0aba132537fc335c0c56e01</td>\n",
       "      <td>sao paulo</td>\n",
       "      <td>...</td>\n",
       "      <td>7.78</td>\n",
       "      <td>voucher</td>\n",
       "      <td>8e762254a11ad4292ec8fb6586c681cf</td>\n",
       "      <td>2</td>\n",
       "      <td>delivered</td>\n",
       "      <td>19861.150000</td>\n",
       "      <td>25808.616667</td>\n",
       "      <td>12401.850000</td>\n",
       "      <td>12901.750000</td>\n",
       "      <td>Average</td>\n",
       "    </tr>\n",
       "    <tr>\n",
       "      <th>4063</th>\n",
       "      <td>4063</td>\n",
       "      <td>2242</td>\n",
       "      <td>-23.488133</td>\n",
       "      <td>-46.607660</td>\n",
       "      <td>6045</td>\n",
       "      <td>-23.569732</td>\n",
       "      <td>-46.794310</td>\n",
       "      <td>dc3ff1c55f63746fe72910164fd2483d</td>\n",
       "      <td>e909a34511c81a374a61b0f06a8bcded</td>\n",
       "      <td>osasco</td>\n",
       "      <td>...</td>\n",
       "      <td>7.39</td>\n",
       "      <td>credit_card</td>\n",
       "      <td>0cd1536fa9d2d519a535929aa3aa4b8d</td>\n",
       "      <td>5</td>\n",
       "      <td>delivered</td>\n",
       "      <td>16662.300000</td>\n",
       "      <td>25343.200000</td>\n",
       "      <td>10538.583333</td>\n",
       "      <td>14734.950000</td>\n",
       "      <td>Average</td>\n",
       "    </tr>\n",
       "    <tr>\n",
       "      <th>4362</th>\n",
       "      <td>4362</td>\n",
       "      <td>2252</td>\n",
       "      <td>-23.479317</td>\n",
       "      <td>-46.590434</td>\n",
       "      <td>22773</td>\n",
       "      <td>-26.895500</td>\n",
       "      <td>-48.687952</td>\n",
       "      <td>05e8c670b506e48de998151c93bf87a7</td>\n",
       "      <td>b80d1a6675e4a81a5a45eca76d8f1c9d</td>\n",
       "      <td>itajai</td>\n",
       "      <td>...</td>\n",
       "      <td>15.10</td>\n",
       "      <td>debit_card</td>\n",
       "      <td>69b6b2993b608b44f4226c90ad5a4708</td>\n",
       "      <td>4</td>\n",
       "      <td>delivered</td>\n",
       "      <td>31275.300000</td>\n",
       "      <td>49469.183333</td>\n",
       "      <td>19171.966667</td>\n",
       "      <td>25771.900000</td>\n",
       "      <td>Slow</td>\n",
       "    </tr>\n",
       "    <tr>\n",
       "      <th>5304</th>\n",
       "      <td>5304</td>\n",
       "      <td>2634</td>\n",
       "      <td>-23.460165</td>\n",
       "      <td>-46.650664</td>\n",
       "      <td>-25293</td>\n",
       "      <td>-12.990463</td>\n",
       "      <td>-38.498762</td>\n",
       "      <td>c7c94293f2433a2421bc2dbd8cd23ee6</td>\n",
       "      <td>07c827034e7b896749af6c9cc366c00f</td>\n",
       "      <td>salvador</td>\n",
       "      <td>...</td>\n",
       "      <td>15.79</td>\n",
       "      <td>credit_card</td>\n",
       "      <td>deb25160337f7caee785728386729f73</td>\n",
       "      <td>1</td>\n",
       "      <td>delivered</td>\n",
       "      <td>41683.816667</td>\n",
       "      <td>34870.100000</td>\n",
       "      <td>17466.233333</td>\n",
       "      <td>4440.100000</td>\n",
       "      <td>Slow</td>\n",
       "    </tr>\n",
       "    <tr>\n",
       "      <th>6319</th>\n",
       "      <td>6319</td>\n",
       "      <td>3006</td>\n",
       "      <td>-23.543136</td>\n",
       "      <td>-46.623716</td>\n",
       "      <td>22230</td>\n",
       "      <td>-22.937816</td>\n",
       "      <td>-43.176199</td>\n",
       "      <td>fcb4cecebc159e210cd769d5b767d113</td>\n",
       "      <td>aef59fd9f7310b6ea1600876c510024f</td>\n",
       "      <td>rio de janeiro</td>\n",
       "      <td>...</td>\n",
       "      <td>15.32</td>\n",
       "      <td>debit_card</td>\n",
       "      <td>6dbe30770adf8a80fee0512a152c8c71</td>\n",
       "      <td>4</td>\n",
       "      <td>delivered</td>\n",
       "      <td>11598.716667</td>\n",
       "      <td>18987.300000</td>\n",
       "      <td>15627.200000</td>\n",
       "      <td>6970.300000</td>\n",
       "      <td>Average</td>\n",
       "    </tr>\n",
       "    <tr>\n",
       "      <th>...</th>\n",
       "      <td>...</td>\n",
       "      <td>...</td>\n",
       "      <td>...</td>\n",
       "      <td>...</td>\n",
       "      <td>...</td>\n",
       "      <td>...</td>\n",
       "      <td>...</td>\n",
       "      <td>...</td>\n",
       "      <td>...</td>\n",
       "      <td>...</td>\n",
       "      <td>...</td>\n",
       "      <td>...</td>\n",
       "      <td>...</td>\n",
       "      <td>...</td>\n",
       "      <td>...</td>\n",
       "      <td>...</td>\n",
       "      <td>...</td>\n",
       "      <td>...</td>\n",
       "      <td>...</td>\n",
       "      <td>...</td>\n",
       "      <td>...</td>\n",
       "    </tr>\n",
       "    <tr>\n",
       "      <th>112373</th>\n",
       "      <td>112373</td>\n",
       "      <td>89041</td>\n",
       "      <td>-26.911411</td>\n",
       "      <td>-49.111436</td>\n",
       "      <td>30431</td>\n",
       "      <td>-19.946083</td>\n",
       "      <td>-43.966746</td>\n",
       "      <td>ea2ba2a668051e4b78923fc0ef607f86</td>\n",
       "      <td>ac1cc7f78641b68413edd9742dd16abe</td>\n",
       "      <td>belo horizonte</td>\n",
       "      <td>...</td>\n",
       "      <td>17.78</td>\n",
       "      <td>debit_card</td>\n",
       "      <td>6e4e68b4ec6ef1cf5a02fad77c0fb559</td>\n",
       "      <td>1</td>\n",
       "      <td>canceled</td>\n",
       "      <td>14663.983333</td>\n",
       "      <td>54799.100000</td>\n",
       "      <td>40564.200000</td>\n",
       "      <td>3216.366667</td>\n",
       "      <td>NaN</td>\n",
       "    </tr>\n",
       "    <tr>\n",
       "      <th>113984</th>\n",
       "      <td>113984</td>\n",
       "      <td>89460</td>\n",
       "      <td>-26.168622</td>\n",
       "      <td>-50.392862</td>\n",
       "      <td>15900</td>\n",
       "      <td>-21.409881</td>\n",
       "      <td>-48.496894</td>\n",
       "      <td>b24e1d90e8595b3864e7e462ed85e0ab</td>\n",
       "      <td>cf829b34d1bd3ec535a5e4e04f2c4692</td>\n",
       "      <td>taquaritinga</td>\n",
       "      <td>...</td>\n",
       "      <td>17.67</td>\n",
       "      <td>boleto</td>\n",
       "      <td>87b70b615b6d5bc1bc7a6e5ccc6dc6e9</td>\n",
       "      <td>4</td>\n",
       "      <td>delivered</td>\n",
       "      <td>31383.666667</td>\n",
       "      <td>43757.000000</td>\n",
       "      <td>14191.816667</td>\n",
       "      <td>17135.816667</td>\n",
       "      <td>Slow</td>\n",
       "    </tr>\n",
       "    <tr>\n",
       "      <th>114223</th>\n",
       "      <td>114223</td>\n",
       "      <td>89560</td>\n",
       "      <td>-27.000869</td>\n",
       "      <td>-51.145320</td>\n",
       "      <td>27351</td>\n",
       "      <td>-22.528073</td>\n",
       "      <td>-44.203041</td>\n",
       "      <td>2bfd566c10ff41c47dc6e2f9dd51b467</td>\n",
       "      <td>31d01917860b026341cdde17c942b59b</td>\n",
       "      <td>barra mansa</td>\n",
       "      <td>...</td>\n",
       "      <td>8.40</td>\n",
       "      <td>boleto</td>\n",
       "      <td>42090eea831a1873d7fb9d583a56978f</td>\n",
       "      <td>1</td>\n",
       "      <td>delivered</td>\n",
       "      <td>33525.583333</td>\n",
       "      <td>42602.100000</td>\n",
       "      <td>11837.733333</td>\n",
       "      <td>13708.683333</td>\n",
       "      <td>Slow</td>\n",
       "    </tr>\n",
       "    <tr>\n",
       "      <th>114224</th>\n",
       "      <td>114224</td>\n",
       "      <td>89560</td>\n",
       "      <td>-27.000869</td>\n",
       "      <td>-51.145320</td>\n",
       "      <td>27351</td>\n",
       "      <td>-22.528073</td>\n",
       "      <td>-44.203041</td>\n",
       "      <td>2bfd566c10ff41c47dc6e2f9dd51b467</td>\n",
       "      <td>31d01917860b026341cdde17c942b59b</td>\n",
       "      <td>barra mansa</td>\n",
       "      <td>...</td>\n",
       "      <td>8.40</td>\n",
       "      <td>boleto</td>\n",
       "      <td>42090eea831a1873d7fb9d583a56978f</td>\n",
       "      <td>1</td>\n",
       "      <td>delivered</td>\n",
       "      <td>33525.583333</td>\n",
       "      <td>42602.100000</td>\n",
       "      <td>11837.733333</td>\n",
       "      <td>13708.683333</td>\n",
       "      <td>Slow</td>\n",
       "    </tr>\n",
       "    <tr>\n",
       "      <th>114914</th>\n",
       "      <td>114914</td>\n",
       "      <td>90230</td>\n",
       "      <td>-30.007312</td>\n",
       "      <td>-51.194222</td>\n",
       "      <td>-28028</td>\n",
       "      <td>-22.402714</td>\n",
       "      <td>-45.533639</td>\n",
       "      <td>3f2036cf3539c9c355fd991251a13f60</td>\n",
       "      <td>cbb8672239d6aa5041fec7db9be70971</td>\n",
       "      <td>piranguinho</td>\n",
       "      <td>...</td>\n",
       "      <td>33.40</td>\n",
       "      <td>boleto</td>\n",
       "      <td>54bd78f3c7cfaa74f8b4baf070c4be16</td>\n",
       "      <td>5</td>\n",
       "      <td>delivered</td>\n",
       "      <td>47760.616667</td>\n",
       "      <td>46577.000000</td>\n",
       "      <td>15551.466667</td>\n",
       "      <td>19263.900000</td>\n",
       "      <td>Slow</td>\n",
       "    </tr>\n",
       "  </tbody>\n",
       "</table>\n",
       "<p>90 rows × 29 columns</p>\n",
       "</div>"
      ],
      "text/plain": [
       "        Unnamed: 0  Seller Zip  Seller Lat  Seller Lng  Customer Zip  \\\n",
       "102            102        1026  -23.539495  -46.632844          5893   \n",
       "4063          4063        2242  -23.488133  -46.607660          6045   \n",
       "4362          4362        2252  -23.479317  -46.590434         22773   \n",
       "5304          5304        2634  -23.460165  -46.650664        -25293   \n",
       "6319          6319        3006  -23.543136  -46.623716         22230   \n",
       "...            ...         ...         ...         ...           ...   \n",
       "112373      112373       89041  -26.911411  -49.111436         30431   \n",
       "113984      113984       89460  -26.168622  -50.392862         15900   \n",
       "114223      114223       89560  -27.000869  -51.145320         27351   \n",
       "114224      114224       89560  -27.000869  -51.145320         27351   \n",
       "114914      114914       90230  -30.007312  -51.194222        -28028   \n",
       "\n",
       "        Customer Lat  Customer Lng                       Customer ID  \\\n",
       "102       -23.658173    -46.790237  c15eed3881abc9e06763c989679c5094   \n",
       "4063      -23.569732    -46.794310  dc3ff1c55f63746fe72910164fd2483d   \n",
       "4362      -26.895500    -48.687952  05e8c670b506e48de998151c93bf87a7   \n",
       "5304      -12.990463    -38.498762  c7c94293f2433a2421bc2dbd8cd23ee6   \n",
       "6319      -22.937816    -43.176199  fcb4cecebc159e210cd769d5b767d113   \n",
       "...              ...           ...                               ...   \n",
       "112373    -19.946083    -43.966746  ea2ba2a668051e4b78923fc0ef607f86   \n",
       "113984    -21.409881    -48.496894  b24e1d90e8595b3864e7e462ed85e0ab   \n",
       "114223    -22.528073    -44.203041  2bfd566c10ff41c47dc6e2f9dd51b467   \n",
       "114224    -22.528073    -44.203041  2bfd566c10ff41c47dc6e2f9dd51b467   \n",
       "114914    -22.402714    -45.533639  3f2036cf3539c9c355fd991251a13f60   \n",
       "\n",
       "                      Customer Unique ID   Customer City  ... Freight Value  \\\n",
       "102     48d6d950c0aba132537fc335c0c56e01       sao paulo  ...          7.78   \n",
       "4063    e909a34511c81a374a61b0f06a8bcded          osasco  ...          7.39   \n",
       "4362    b80d1a6675e4a81a5a45eca76d8f1c9d          itajai  ...         15.10   \n",
       "5304    07c827034e7b896749af6c9cc366c00f        salvador  ...         15.79   \n",
       "6319    aef59fd9f7310b6ea1600876c510024f  rio de janeiro  ...         15.32   \n",
       "...                                  ...             ...  ...           ...   \n",
       "112373  ac1cc7f78641b68413edd9742dd16abe  belo horizonte  ...         17.78   \n",
       "113984  cf829b34d1bd3ec535a5e4e04f2c4692    taquaritinga  ...         17.67   \n",
       "114223  31d01917860b026341cdde17c942b59b     barra mansa  ...          8.40   \n",
       "114224  31d01917860b026341cdde17c942b59b     barra mansa  ...          8.40   \n",
       "114914  cbb8672239d6aa5041fec7db9be70971     piranguinho  ...         33.40   \n",
       "\n",
       "       Payment Type                         Review ID Review Score  \\\n",
       "102         voucher  8e762254a11ad4292ec8fb6586c681cf            2   \n",
       "4063    credit_card  0cd1536fa9d2d519a535929aa3aa4b8d            5   \n",
       "4362     debit_card  69b6b2993b608b44f4226c90ad5a4708            4   \n",
       "5304    credit_card  deb25160337f7caee785728386729f73            1   \n",
       "6319     debit_card  6dbe30770adf8a80fee0512a152c8c71            4   \n",
       "...             ...                               ...          ...   \n",
       "112373   debit_card  6e4e68b4ec6ef1cf5a02fad77c0fb559            1   \n",
       "113984       boleto  87b70b615b6d5bc1bc7a6e5ccc6dc6e9            4   \n",
       "114223       boleto  42090eea831a1873d7fb9d583a56978f            1   \n",
       "114224       boleto  42090eea831a1873d7fb9d583a56978f            1   \n",
       "114914       boleto  54bd78f3c7cfaa74f8b4baf070c4be16            5   \n",
       "\n",
       "       Order Status Total Delivery Time (Min)  Est.Total Delivery Time (Min)  \\\n",
       "102       delivered              19861.150000                   25808.616667   \n",
       "4063      delivered              16662.300000                   25343.200000   \n",
       "4362      delivered              31275.300000                   49469.183333   \n",
       "5304      delivered              41683.816667                   34870.100000   \n",
       "6319      delivered              11598.716667                   18987.300000   \n",
       "...             ...                       ...                            ...   \n",
       "112373     canceled              14663.983333                   54799.100000   \n",
       "113984    delivered              31383.666667                   43757.000000   \n",
       "114223    delivered              33525.583333                   42602.100000   \n",
       "114224    delivered              33525.583333                   42602.100000   \n",
       "114914    delivered              47760.616667                   46577.000000   \n",
       "\n",
       "       Purchase-to-Approval Time (Min)  Order-to-Carrier Time (Min)  \\\n",
       "102                       12401.850000                 12901.750000   \n",
       "4063                      10538.583333                 14734.950000   \n",
       "4362                      19171.966667                 25771.900000   \n",
       "5304                      17466.233333                  4440.100000   \n",
       "6319                      15627.200000                  6970.300000   \n",
       "...                                ...                          ...   \n",
       "112373                    40564.200000                  3216.366667   \n",
       "113984                    14191.816667                 17135.816667   \n",
       "114223                    11837.733333                 13708.683333   \n",
       "114224                    11837.733333                 13708.683333   \n",
       "114914                    15551.466667                 19263.900000   \n",
       "\n",
       "        Fulfillment Time  \n",
       "102              Average  \n",
       "4063             Average  \n",
       "4362                Slow  \n",
       "5304                Slow  \n",
       "6319             Average  \n",
       "...                  ...  \n",
       "112373               NaN  \n",
       "113984              Slow  \n",
       "114223              Slow  \n",
       "114224              Slow  \n",
       "114914              Slow  \n",
       "\n",
       "[90 rows x 29 columns]"
      ]
     },
     "execution_count": 58,
     "metadata": {},
     "output_type": "execute_result"
    }
   ],
   "source": [
    "#Check how many extreme values there are\n",
    "df1[df1['Purchase-to-Approval Time (Min)'] > 10000]"
   ]
  },
  {
   "cell_type": "code",
   "execution_count": 87,
   "id": "9364d32c",
   "metadata": {},
   "outputs": [
    {
     "data": {
      "text/plain": [
       "616.1898723376125"
      ]
     },
     "execution_count": 87,
     "metadata": {},
     "output_type": "execute_result"
    }
   ],
   "source": [
    "#Check the mean\n",
    "df1['Purchase-to-Approval Time (Min)'].mean()"
   ]
  },
  {
   "cell_type": "code",
   "execution_count": 88,
   "id": "e36e2321",
   "metadata": {},
   "outputs": [
    {
     "data": {
      "text/plain": [
       "20.8"
      ]
     },
     "execution_count": 88,
     "metadata": {},
     "output_type": "execute_result"
    }
   ],
   "source": [
    "#Check the median\n",
    "df1['Purchase-to-Approval Time (Min)'].median()"
   ]
  },
  {
   "cell_type": "code",
   "execution_count": 89,
   "id": "0e34f5a6",
   "metadata": {},
   "outputs": [
    {
     "data": {
      "text/plain": [
       "9873.633333333331"
      ]
     },
     "execution_count": 89,
     "metadata": {},
     "output_type": "execute_result"
    }
   ],
   "source": [
    "#Check the median\n",
    "df1['Purchase-to-Approval Time (Min)'].max()"
   ]
  },
  {
   "cell_type": "markdown",
   "id": "e7fa559e",
   "metadata": {},
   "source": [
    "##### Order-to-Carrier Time (Min)"
   ]
  },
  {
   "cell_type": "code",
   "execution_count": 60,
   "id": "85c4a105",
   "metadata": {},
   "outputs": [
    {
     "data": {
      "text/plain": [
       "<AxesSubplot:xlabel='Order-to-Carrier Time (Min)', ylabel='Count'>"
      ]
     },
     "execution_count": 60,
     "metadata": {},
     "output_type": "execute_result"
    },
    {
     "data": {
      "image/png": "[encoded data removed]",
      "text/plain": [
       "<Figure size 640x480 with 1 Axes>"
      ]
     },
     "metadata": {},
     "output_type": "display_data"
    }
   ],
   "source": [
    "#Plot the values of the column on a histogram to see if there are any extreme values that skew our results\n",
    "sns.histplot(df1['Order-to-Carrier Time (Min)'], bins=20, kde = True)"
   ]
  },
  {
   "cell_type": "code",
   "execution_count": 90,
   "id": "24b7518f",
   "metadata": {},
   "outputs": [
    {
     "data": {
      "text/plain": [
       "4672.1327852254135"
      ]
     },
     "execution_count": 90,
     "metadata": {},
     "output_type": "execute_result"
    }
   ],
   "source": [
    "#Check the mean\n",
    "df1['Order-to-Carrier Time (Min)'].mean()"
   ]
  },
  {
   "cell_type": "code",
   "execution_count": 91,
   "id": "696a3542",
   "metadata": {},
   "outputs": [
    {
     "data": {
      "text/plain": [
       "3216.366666666667"
      ]
     },
     "execution_count": 91,
     "metadata": {},
     "output_type": "execute_result"
    }
   ],
   "source": [
    "#Check the median\n",
    "df1['Order-to-Carrier Time (Min)'].median()"
   ]
  },
  {
   "cell_type": "code",
   "execution_count": 92,
   "id": "5e58a971",
   "metadata": {},
   "outputs": [
    {
     "data": {
      "text/plain": [
       "59701.6"
      ]
     },
     "execution_count": 92,
     "metadata": {},
     "output_type": "execute_result"
    }
   ],
   "source": [
    "#Check the median\n",
    "df1['Order-to-Carrier Time (Min)'].max()"
   ]
  },
  {
   "cell_type": "code",
   "execution_count": 62,
   "id": "16bf1cf1",
   "metadata": {},
   "outputs": [],
   "source": [
    "#Clean the extreme values\n",
    "df1 = df1[df1['Order-to-Carrier Time (Min)'] > 0]"
   ]
  },
  {
   "cell_type": "code",
   "execution_count": 63,
   "id": "240d506a",
   "metadata": {},
   "outputs": [
    {
     "data": {
      "text/plain": [
       "<AxesSubplot:xlabel='Order-to-Carrier Time (Min)', ylabel='Count'>"
      ]
     },
     "execution_count": 63,
     "metadata": {},
     "output_type": "execute_result"
    },
    {
     "data": {
      "image/png": "[encoded data removed]",
      "text/plain": [
       "<Figure size 640x480 with 1 Axes>"
      ]
     },
     "metadata": {},
     "output_type": "display_data"
    }
   ],
   "source": [
    "sns.histplot(df1['Order-to-Carrier Time (Min)'], bins=20, kde = True)"
   ]
  },
  {
   "cell_type": "markdown",
   "id": "ab66b497",
   "metadata": {},
   "source": [
    "##### Price"
   ]
  },
  {
   "cell_type": "code",
   "execution_count": 69,
   "id": "253f0085",
   "metadata": {},
   "outputs": [
    {
     "data": {
      "text/plain": [
       "<AxesSubplot:xlabel='Price', ylabel='Count'>"
      ]
     },
     "execution_count": 69,
     "metadata": {},
     "output_type": "execute_result"
    },
    {
     "data": {
      "image/png": "[encoded data removed]",
      "text/plain": [
       "<Figure size 640x480 with 1 Axes>"
      ]
     },
     "metadata": {},
     "output_type": "display_data"
    }
   ],
   "source": [
    "#Plot the values of the column on a histogram to see if there are any extreme values that skew our results\n",
    "sns.histplot(df1['Price'], bins=20, kde = True)"
   ]
  },
  {
   "cell_type": "code",
   "execution_count": 93,
   "id": "6b2bbd50",
   "metadata": {},
   "outputs": [
    {
     "data": {
      "text/plain": [
       "119.59155810644573"
      ]
     },
     "execution_count": 93,
     "metadata": {},
     "output_type": "execute_result"
    }
   ],
   "source": [
    "#Check the mean\n",
    "df1['Price'].mean()"
   ]
  },
  {
   "cell_type": "code",
   "execution_count": 94,
   "id": "53d07ac7",
   "metadata": {},
   "outputs": [
    {
     "data": {
      "text/plain": [
       "74.9"
      ]
     },
     "execution_count": 94,
     "metadata": {},
     "output_type": "execute_result"
    }
   ],
   "source": [
    "#Check the median\n",
    "df1['Price'].median()"
   ]
  },
  {
   "cell_type": "code",
   "execution_count": 95,
   "id": "81e85044",
   "metadata": {},
   "outputs": [
    {
     "data": {
      "text/plain": [
       "2999.99"
      ]
     },
     "execution_count": 95,
     "metadata": {},
     "output_type": "execute_result"
    }
   ],
   "source": [
    "#Check the median\n",
    "df1['Price'].max()"
   ]
  },
  {
   "cell_type": "markdown",
   "id": "2ff63c54",
   "metadata": {},
   "source": [
    "##### Freight Value"
   ]
  },
  {
   "cell_type": "code",
   "execution_count": 74,
   "id": "47f31247",
   "metadata": {},
   "outputs": [
    {
     "data": {
      "text/plain": [
       "<AxesSubplot:xlabel='Freight Value', ylabel='Count'>"
      ]
     },
     "execution_count": 74,
     "metadata": {},
     "output_type": "execute_result"
    },
    {
     "data": {
      "image/png": "[encoded data removed]",
      "text/plain": [
       "<Figure size 640x480 with 1 Axes>"
      ]
     },
     "metadata": {},
     "output_type": "display_data"
    }
   ],
   "source": [
    "#Plot the values of the column on a histogram to see if there are any extreme values that skew our results\n",
    "sns.histplot(df1['Freight Value'], bins=20, kde = True)"
   ]
  },
  {
   "cell_type": "code",
   "execution_count": 96,
   "id": "f459c684",
   "metadata": {},
   "outputs": [
    {
     "data": {
      "text/plain": [
       "19.979081639679425"
      ]
     },
     "execution_count": 96,
     "metadata": {},
     "output_type": "execute_result"
    }
   ],
   "source": [
    "#Check the mean\n",
    "df1['Freight Value'].mean()"
   ]
  },
  {
   "cell_type": "code",
   "execution_count": 97,
   "id": "dd3a8c0d",
   "metadata": {},
   "outputs": [
    {
     "data": {
      "text/plain": [
       "16.26"
      ]
     },
     "execution_count": 97,
     "metadata": {},
     "output_type": "execute_result"
    }
   ],
   "source": [
    "#Check the median\n",
    "df1['Freight Value'].median()"
   ]
  },
  {
   "cell_type": "code",
   "execution_count": 98,
   "id": "2c775273",
   "metadata": {},
   "outputs": [
    {
     "data": {
      "text/plain": [
       "409.68"
      ]
     },
     "execution_count": 98,
     "metadata": {},
     "output_type": "execute_result"
    }
   ],
   "source": [
    "#Check the median\n",
    "df1['Freight Value'].max()"
   ]
  },
  {
   "cell_type": "markdown",
   "id": "574a2737",
   "metadata": {},
   "source": [
    "## 3.) Data Prep for Regression Analysis"
   ]
  },
  {
   "cell_type": "code",
   "execution_count": 172,
   "id": "5c253b5f",
   "metadata": {},
   "outputs": [
    {
     "data": {
      "image/png": "[encoded data removed]",
      "text/plain": [
       "<Figure size 640x480 with 1 Axes>"
      ]
     },
     "metadata": {},
     "output_type": "display_data"
    }
   ],
   "source": [
    "# Create a scatterplot using matplotlib for another look at how the Order-to-Carrier Time and Total Delivery Time variables plot against each other.\n",
    "\n",
    "df1.plot(x = 'Order-to-Carrier Time (Min)', y='Total Delivery Time (Min)',style='o')\n",
    "plt.title('Order-to-Carrier Time Lag vs. Total Delivery Time')  \n",
    "plt.xlabel('Order-to-Carrier Time (Min)')  \n",
    "plt.ylabel('Total Delivery Time (Min)')  \n",
    "plt.show()"
   ]
  },
  {
   "cell_type": "code",
   "execution_count": 173,
   "id": "01157e5c",
   "metadata": {},
   "outputs": [],
   "source": [
    "# Reshape the variables into NumPy arrays and put them into separate objects.\n",
    "\n",
    "X = df1['Order-to-Carrier Time (Min)'].values.reshape(-1,1)\n",
    "y = df1['Total Delivery Time (Min)'].values.reshape(-1,1)"
   ]
  },
  {
   "cell_type": "code",
   "execution_count": 174,
   "id": "d8341045",
   "metadata": {},
   "outputs": [
    {
     "data": {
      "text/plain": [
       "array([[ 723.43333333],\n",
       "       [2314.03333333],\n",
       "       [1129.63333333],\n",
       "       ...,\n",
       "       [2316.66666667],\n",
       "       [4703.71666667],\n",
       "       [1594.65      ]])"
      ]
     },
     "execution_count": 174,
     "metadata": {},
     "output_type": "execute_result"
    }
   ],
   "source": [
    "X"
   ]
  },
  {
   "cell_type": "code",
   "execution_count": 175,
   "id": "153e5b24",
   "metadata": {},
   "outputs": [
    {
     "data": {
      "text/plain": [
       "array([[ 2707.26666667],\n",
       "       [14353.43333333],\n",
       "       [ 2979.45      ],\n",
       "       ...,\n",
       "       [21248.66666667],\n",
       "       [13127.71666667],\n",
       "       [ 7718.06666667]])"
      ]
     },
     "execution_count": 175,
     "metadata": {},
     "output_type": "execute_result"
    }
   ],
   "source": [
    "y"
   ]
  },
  {
   "cell_type": "code",
   "execution_count": 176,
   "id": "075182ab",
   "metadata": {},
   "outputs": [],
   "source": [
    "#Split the data into a training set and a test set\n",
    "X_train, X_test, y_train, y_test = train_test_split(X, y, test_size=0.3, random_state=0)"
   ]
  },
  {
   "cell_type": "markdown",
   "id": "883ff82a",
   "metadata": {},
   "source": [
    "## 4.) Regression Analysis"
   ]
  },
  {
   "cell_type": "markdown",
   "id": "3e1f00b6",
   "metadata": {},
   "source": [
    "### 1.) Regression Analysis for Total Delivery Time and Order-to-Carrier Time Lag"
   ]
  },
  {
   "cell_type": "code",
   "execution_count": 177,
   "id": "29888555",
   "metadata": {},
   "outputs": [],
   "source": [
    "#Create a regression object to be fit to our training set\n",
    "regression = LinearRegression()"
   ]
  },
  {
   "cell_type": "code",
   "execution_count": 178,
   "id": "0640a289",
   "metadata": {},
   "outputs": [
    {
     "data": {
      "text/plain": [
       "LinearRegression()"
      ]
     },
     "execution_count": 178,
     "metadata": {},
     "output_type": "execute_result"
    }
   ],
   "source": [
    "#Fit the regression object to the training set\n",
    "regression.fit(X_train, y_train)"
   ]
  },
  {
   "cell_type": "code",
   "execution_count": 179,
   "id": "4b642f98",
   "metadata": {},
   "outputs": [],
   "source": [
    "#Predict the values of y using X.\n",
    "y_predicted = regression.predict(X_test)"
   ]
  },
  {
   "cell_type": "code",
   "execution_count": 180,
   "id": "87d31351",
   "metadata": {},
   "outputs": [
    {
     "data": {
      "image/png": "[encoded data removed]",
      "text/plain": [
       "<Figure size 640x480 with 1 Axes>"
      ]
     },
     "metadata": {},
     "output_type": "display_data"
    }
   ],
   "source": [
    "#Create a plot for Delivery Time and Order-to-Carreier Time that shows the regression line from the model on the test set.\n",
    "\n",
    "plot_test = plt\n",
    "plot_test.scatter(X_test, y_test, color='gray', s = 15)\n",
    "plot_test.plot(X_test, y_predicted, color='red', linewidth =3)\n",
    "plot_test.title('Order-to-Carrier Time Lag vs. Total Delivery Time')\n",
    "plot_test.xlabel('Order-to-Carrier Time (Min)')\n",
    "plot_test.ylabel('Total Delivery Time (Min)')\n",
    "plot_test.show()"
   ]
  },
  {
   "cell_type": "code",
   "execution_count": 181,
   "id": "10209258",
   "metadata": {},
   "outputs": [],
   "source": [
    "# Look at the R2 Score and Root Means Squared Error for the y-variable (dependent) to evaluate the accuracy of the model.\n",
    "rmse = mean_squared_error(y_test, y_predicted) # This is the mean squared error\n",
    "r2 = r2_score(y_test, y_predicted) # This is the R2 score. "
   ]
  },
  {
   "cell_type": "code",
   "execution_count": 182,
   "id": "00f677e3",
   "metadata": {},
   "outputs": [
    {
     "name": "stdout",
     "output_type": "stream",
     "text": [
      "Slope: [[1.03752558]]\n",
      "Mean squared error:  116553862.16124456\n",
      "R2 score:  0.17800666074596905\n"
     ]
    }
   ],
   "source": [
    "# Print the model summary statistics. This is where you evaluate the performance of the model.\n",
    "\n",
    "print('Slope:' ,regression.coef_)\n",
    "print('Mean squared error: ', rmse)\n",
    "print('R2 score: ', r2)"
   ]
  },
  {
   "cell_type": "markdown",
   "id": "6fc2834b",
   "metadata": {},
   "source": [
    "There is somewhat of a relationship between order-to-carrier times and total delivery times that gest progressively stronger in orders above 15,000 minutes between order and delivery to the carrier. Still, the majority of orders have order-to-carrier lag times of less than 15,000 minutes, making these factors difficult to draw strong, predictive conclusions from.\n",
    "\n",
    "I had to remove extreme values on either end to improve the fit of the model. The low R2 Score and high MSE indicate that this is a poor model for predictive purposes. It's difficult to predict total delivery prices, based on order-to-carrier time lag using this model."
   ]
  },
  {
   "cell_type": "markdown",
   "id": "b5cab435",
   "metadata": {},
   "source": [
    "### 2.) Regression Analysis & Training/Test Data for Delivery Time and Review Score"
   ]
  },
  {
   "cell_type": "code",
   "execution_count": 184,
   "id": "20a6edad",
   "metadata": {},
   "outputs": [
    {
     "data": {
      "image/png": "[encoded data removed]",
      "text/plain": [
       "<Figure size 640x480 with 1 Axes>"
      ]
     },
     "metadata": {},
     "output_type": "display_data"
    }
   ],
   "source": [
    "# Create a scatterplot using matplotlib for another look at how the Order-to-Carrier Time and Total Delivery Time variables plot against each other.\n",
    "\n",
    "df1.plot(x = 'Review Score', y='Total Delivery Time (Min)',style='o')\n",
    "plt.title('Total Delivery Time vs. Review Score')  \n",
    "plt.xlabel('Review Score')  \n",
    "plt.ylabel('Delivery Time (Min)')  \n",
    "plt.show()"
   ]
  },
  {
   "cell_type": "code",
   "execution_count": 135,
   "id": "665ab1a0",
   "metadata": {},
   "outputs": [],
   "source": [
    "# Reshape the variables into NumPy arrays and put them into separate objects.\n",
    "\n",
    "X = df1['Total Delivery Time (Min)'].values.reshape(-1,1)\n",
    "y = df1['Review Score'].values.reshape(-1,1)"
   ]
  },
  {
   "cell_type": "code",
   "execution_count": 136,
   "id": "bf896e4c",
   "metadata": {},
   "outputs": [],
   "source": [
    "#Split the data into a training set and a test set\n",
    "X_train, X_test, y_train, y_test = train_test_split(X, y, test_size=0.3, random_state=0)"
   ]
  },
  {
   "cell_type": "markdown",
   "id": "02a19733",
   "metadata": {},
   "source": [
    "#### Regression Analysis- Delivery Time and Review Score"
   ]
  },
  {
   "cell_type": "code",
   "execution_count": 137,
   "id": "220c5df5",
   "metadata": {},
   "outputs": [],
   "source": [
    "#Create a regression object to be fit to our training set\n",
    "regression = LinearRegression()"
   ]
  },
  {
   "cell_type": "code",
   "execution_count": 138,
   "id": "856a8e8f",
   "metadata": {},
   "outputs": [
    {
     "data": {
      "text/plain": [
       "LinearRegression()"
      ]
     },
     "execution_count": 138,
     "metadata": {},
     "output_type": "execute_result"
    }
   ],
   "source": [
    "#Fit the regression object to the training set\n",
    "regression.fit(X_train, y_train)"
   ]
  },
  {
   "cell_type": "code",
   "execution_count": 139,
   "id": "850dabe4",
   "metadata": {},
   "outputs": [],
   "source": [
    "#Predict the values of y using X.\n",
    "y_predicted = regression.predict(X_test)"
   ]
  },
  {
   "cell_type": "code",
   "execution_count": 140,
   "id": "8439ec2f",
   "metadata": {},
   "outputs": [
    {
     "data": {
      "image/png": "[encoded data removed]",
      "text/plain": [
       "<Figure size 640x480 with 1 Axes>"
      ]
     },
     "metadata": {},
     "output_type": "display_data"
    }
   ],
   "source": [
    "#Create a plot for Delivery Time and Order-to-Carreier Time that shows the regression line from the model on the test set.\n",
    "plot_test = plt\n",
    "plot_test.scatter(X_test, y_test, color='gray', s = 15)\n",
    "plot_test.plot(X_test, y_predicted, color='red', linewidth =3)\n",
    "plot_test.title('Total Delivery Time vs. Review Score')\n",
    "plot_test.xlabel('Total Delivery Time (Min)')\n",
    "plot_test.ylabel('Review Score')\n",
    "plot_test.show()"
   ]
  },
  {
   "cell_type": "code",
   "execution_count": 141,
   "id": "91f29d45",
   "metadata": {},
   "outputs": [],
   "source": [
    "# Look at the R2 Score and Root Means Squared Error for the y-variable (dependent) to evaluate the accuracy of the model.\n",
    "rmse = mean_squared_error(y_test, y_predicted) # This is the mean squared error\n",
    "r2 = r2_score(y_test, y_predicted) # This is the R2 score. "
   ]
  },
  {
   "cell_type": "code",
   "execution_count": 142,
   "id": "fa4fc9b9",
   "metadata": {},
   "outputs": [
    {
     "name": "stdout",
     "output_type": "stream",
     "text": [
      "Slope: [[-3.33694711e-05]]\n",
      "Mean squared error:  1.7528686077676905\n",
      "R2 score:  0.0896652804586262\n"
     ]
    }
   ],
   "source": [
    "# Print the model summary statistics. This is where you evaluate the performance of the model.\n",
    "\n",
    "print('Slope:' ,regression.coef_)\n",
    "print('Mean squared error: ', rmse)\n",
    "print('R2 score: ', r2)"
   ]
  },
  {
   "cell_type": "markdown",
   "id": "18c6c57f",
   "metadata": {},
   "source": [
    "To a limited extent, there is an inverse relationship between delivery time and customer review scores. This only holds up to a point and the large number of outliers and values of the same score with vastly different elivery times indicates that other factors play a stronger role in customer satisfaction. This is a stronger model than the one that looked at order-to-carrier times and total delivery times, however, it's still not strong for predictive purposes, as indicated by its very low R2 Score (although it does have a relatively small MSE, which is a good sign.) "
   ]
  },
  {
   "cell_type": "markdown",
   "id": "4c98b4f9",
   "metadata": {},
   "source": [
    "### 3.) Regression Analysis & Training/Test Data for Price and Delivery Time"
   ]
  },
  {
   "cell_type": "markdown",
   "id": "74afcd58",
   "metadata": {},
   "source": [
    "#### Regression Analysis & Training/Test Data for Price and Delivery Time"
   ]
  },
  {
   "cell_type": "code",
   "execution_count": 146,
   "id": "08bf4dae",
   "metadata": {},
   "outputs": [
    {
     "data": {
      "image/png": "[encoded data removed]",
      "text/plain": [
       "<Figure size 640x480 with 1 Axes>"
      ]
     },
     "metadata": {},
     "output_type": "display_data"
    }
   ],
   "source": [
    "# Create a scatterplot using matplotlib for another look at how the Order-to-Carrier Time and Total Delivery Time variables plot against each other.\n",
    "\n",
    "df1.plot(x = 'Price', y='Total Delivery Time (Min)',style='o')\n",
    "plt.title('Product Price vs. Total Delivery Time')  \n",
    "plt.xlabel('Price')  \n",
    "plt.ylabel('Total Delivery Time (Min)')  \n",
    "plt.show()"
   ]
  },
  {
   "cell_type": "code",
   "execution_count": 186,
   "id": "9629d0b3",
   "metadata": {},
   "outputs": [],
   "source": [
    "# Reshape the variables into NumPy arrays and put them into separate objects.\n",
    "\n",
    "X = df1['Price'].values.reshape(-1,1)\n",
    "y = df1['Total Delivery Time (Min)'].values.reshape(-1,1)"
   ]
  },
  {
   "cell_type": "code",
   "execution_count": 187,
   "id": "78b7f8e2",
   "metadata": {},
   "outputs": [],
   "source": [
    "#Split the data into a training set and a test set\n",
    "X_train, X_test, y_train, y_test = train_test_split(X, y, test_size=0.3, random_state=0)"
   ]
  },
  {
   "cell_type": "code",
   "execution_count": 188,
   "id": "a8ff9d44",
   "metadata": {},
   "outputs": [],
   "source": [
    "#Create a regression object to be fit to our training set\n",
    "regression = LinearRegression()"
   ]
  },
  {
   "cell_type": "code",
   "execution_count": 189,
   "id": "9a06e230",
   "metadata": {},
   "outputs": [
    {
     "data": {
      "text/plain": [
       "LinearRegression()"
      ]
     },
     "execution_count": 189,
     "metadata": {},
     "output_type": "execute_result"
    }
   ],
   "source": [
    "#Fit the regression object to the training set\n",
    "regression.fit(X_train, y_train)"
   ]
  },
  {
   "cell_type": "code",
   "execution_count": 190,
   "id": "14371e05",
   "metadata": {},
   "outputs": [],
   "source": [
    "#Predict the values of y using X.\n",
    "y_predicted = regression.predict(X_test)"
   ]
  },
  {
   "cell_type": "code",
   "execution_count": 191,
   "id": "f5cd774b",
   "metadata": {},
   "outputs": [
    {
     "data": {
      "image/png": "[encoded data removed]",
      "text/plain": [
       "<Figure size 640x480 with 1 Axes>"
      ]
     },
     "metadata": {},
     "output_type": "display_data"
    }
   ],
   "source": [
    "#Create a plot for Delivery Time and Order-to-Carreier Time that shows the regression line from the model on the test set.\n",
    "\n",
    "plot_test = plt\n",
    "plot_test.scatter(X_test, y_test, color='gray', s = 15)\n",
    "plot_test.plot(X_test, y_predicted, color='red', linewidth =3)\n",
    "plot_test.title('Total Delivery Time vs. Price')\n",
    "plot_test.xlabel('Price')\n",
    "plot_test.ylabel('Total Delivery Time (Min)')\n",
    "plot_test.show()"
   ]
  },
  {
   "cell_type": "code",
   "execution_count": 192,
   "id": "c767233c",
   "metadata": {},
   "outputs": [],
   "source": [
    "# Look at the R2 Score and Root Means Squared Error for the y-variable (dependent) to evaluate the accuracy of the model.\n",
    "rmse = mean_squared_error(y_test, y_predicted) # This is the mean squared error\n",
    "r2 = r2_score(y_test, y_predicted) # This is the R2 score. "
   ]
  },
  {
   "cell_type": "code",
   "execution_count": 193,
   "id": "dabd9c96",
   "metadata": {},
   "outputs": [
    {
     "name": "stdout",
     "output_type": "stream",
     "text": [
      "Slope: [[4.39429963]]\n",
      "Mean squared error:  141090874.8579498\n",
      "R2 score:  0.0049599626109861905\n"
     ]
    }
   ],
   "source": [
    "# Print the model summary statistics. This is where you evaluate the performance of the model.\n",
    "\n",
    "print('Slope:' ,regression.coef_)\n",
    "print('Mean squared error: ', rmse)\n",
    "print('R2 score: ', r2)"
   ]
  },
  {
   "cell_type": "markdown",
   "id": "afa3cb18",
   "metadata": {},
   "source": [
    "Again, the model here is not useful for predictive purposes as indivated by the low R2 score and very large MSE value. There is certainly a connection between price and delivery time once you get above a pricepoint of 1000 but, overall, there is not a strong relationship."
   ]
  }
 ],
 "metadata": {
  "kernelspec": {
   "display_name": "Python 3 (ipykernel)",
   "language": "python",
   "name": "python3"
  },
  "language_info": {
   "codemirror_mode": {
    "name": "ipython",
    "version": 3
   },
   "file_extension": ".py",
   "mimetype": "text/x-python",
   "name": "python",
   "nbconvert_exporter": "python",
   "pygments_lexer": "ipython3",
   "version": "3.9.13"
  }
 },
 "nbformat": 4,
 "nbformat_minor": 5
}
